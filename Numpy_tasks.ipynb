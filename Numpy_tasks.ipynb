{
  "cells": [
    {
      "cell_type": "markdown",
      "metadata": {
        "id": "view-in-github",
        "colab_type": "text"
      },
      "source": [
        "<a href=\"https://colab.research.google.com/github/Aravind3991/GUVI_Task/blob/main/Numpy_tasks.ipynb\" target=\"_parent\"><img src=\"https://colab.research.google.com/assets/colab-badge.svg\" alt=\"Open In Colab\"/></a>"
      ]
    },
    {
      "cell_type": "markdown",
      "metadata": {
        "id": "l_KVN9k1LcgX"
      },
      "source": [
        "# Numpy\n",
        "\n"
      ]
    },
    {
      "cell_type": "markdown",
      "metadata": {
        "id": "6cn8u5GrLcgk"
      },
      "source": [
        "#### 1. Import the numpy package under the name `np` (★☆☆) \n",
        "(**hint**: import … as …)"
      ]
    },
    {
      "cell_type": "code",
      "execution_count": 1,
      "metadata": {
        "collapsed": true,
        "id": "CDV603NuLcgn"
      },
      "outputs": [],
      "source": [
        "import numpy as np"
      ]
    },
    {
      "cell_type": "markdown",
      "metadata": {
        "id": "xv2PrELuLcgq"
      },
      "source": [
        "#### 2. Print the numpy version and the configuration (★☆☆) \n",
        "(**hint**: np.\\_\\_version\\_\\_, np.show\\_config)"
      ]
    },
    {
      "cell_type": "code",
      "execution_count": null,
      "metadata": {
        "id": "J27v7SZCLcgs",
        "outputId": "0dd8737e-7f78-4109-9d07-e026e2d07fbe",
        "colab": {
          "base_uri": "https://localhost:8080/"
        }
      },
      "outputs": [
        {
          "output_type": "stream",
          "name": "stdout",
          "text": [
            "1.21.6\n",
            "blas_mkl_info:\n",
            "  NOT AVAILABLE\n",
            "blis_info:\n",
            "  NOT AVAILABLE\n",
            "openblas_info:\n",
            "    libraries = ['openblas', 'openblas']\n",
            "    library_dirs = ['/usr/local/lib']\n",
            "    language = c\n",
            "    define_macros = [('HAVE_CBLAS', None)]\n",
            "    runtime_library_dirs = ['/usr/local/lib']\n",
            "blas_opt_info:\n",
            "    libraries = ['openblas', 'openblas']\n",
            "    library_dirs = ['/usr/local/lib']\n",
            "    language = c\n",
            "    define_macros = [('HAVE_CBLAS', None)]\n",
            "    runtime_library_dirs = ['/usr/local/lib']\n",
            "lapack_mkl_info:\n",
            "  NOT AVAILABLE\n",
            "openblas_lapack_info:\n",
            "    libraries = ['openblas', 'openblas']\n",
            "    library_dirs = ['/usr/local/lib']\n",
            "    language = c\n",
            "    define_macros = [('HAVE_CBLAS', None)]\n",
            "    runtime_library_dirs = ['/usr/local/lib']\n",
            "lapack_opt_info:\n",
            "    libraries = ['openblas', 'openblas']\n",
            "    library_dirs = ['/usr/local/lib']\n",
            "    language = c\n",
            "    define_macros = [('HAVE_CBLAS', None)]\n",
            "    runtime_library_dirs = ['/usr/local/lib']\n",
            "Supported SIMD extensions in this NumPy install:\n",
            "    baseline = SSE,SSE2,SSE3\n",
            "    found = SSSE3,SSE41,POPCNT,SSE42,AVX,F16C,FMA3,AVX2\n",
            "    not found = AVX512F,AVX512CD,AVX512_KNL,AVX512_KNM,AVX512_SKX,AVX512_CLX,AVX512_CNL,AVX512_ICL\n",
            "None\n"
          ]
        }
      ],
      "source": [
        "print(np.__version__)\n",
        "print(np.show_config())"
      ]
    },
    {
      "cell_type": "markdown",
      "metadata": {
        "id": "6jkGyupeLcgt"
      },
      "source": [
        "#### 3. Create a null vector of size 10 (★☆☆) \n",
        "(**hint**: np.zeros)"
      ]
    },
    {
      "cell_type": "code",
      "execution_count": null,
      "metadata": {
        "id": "Cy4uduSALcgv",
        "outputId": "24fa270e-6686-4a97-f3e7-9796843e2475",
        "colab": {
          "base_uri": "https://localhost:8080/"
        }
      },
      "outputs": [
        {
          "output_type": "stream",
          "name": "stdout",
          "text": [
            "[0. 0. 0. 0. 0. 0. 0. 0. 0. 0.]\n"
          ]
        }
      ],
      "source": [
        "a = np.zeros(10)\n",
        "print(a)"
      ]
    },
    {
      "cell_type": "markdown",
      "metadata": {
        "id": "jA9ktWimLcgy"
      },
      "source": [
        "#### 4.  How to find the memory size of any array (★☆☆) \n",
        "(**hint**: size, itemsize)"
      ]
    },
    {
      "cell_type": "code",
      "execution_count": null,
      "metadata": {
        "id": "9fJ7__xsLcg0",
        "outputId": "2553810f-cbc2-430f-e2d0-8f45e5404fff",
        "colab": {
          "base_uri": "https://localhost:8080/"
        }
      },
      "outputs": [
        {
          "output_type": "stream",
          "name": "stdout",
          "text": [
            "Size of array:  7\n",
            "Memory size :  8\n"
          ]
        }
      ],
      "source": [
        "a = np.array([1,2,3,4,5,6,7])\n",
        "  \n",
        "print(\"Size of array: \",a.size)\n",
        "  \n",
        "print(\"Memory size : \",a.itemsize)"
      ]
    },
    {
      "cell_type": "markdown",
      "metadata": {
        "id": "vZrXNuQTLcg2"
      },
      "source": [
        "#### 5.  How to get the documentation of the numpy add function from the command line? (★☆☆) \n",
        "(**hint**: np.info)"
      ]
    },
    {
      "cell_type": "code",
      "execution_count": null,
      "metadata": {
        "collapsed": true,
        "id": "UNpmz0BsLcg3",
        "outputId": "8d0538c0-4f4b-4c04-af69-b45699b92303",
        "colab": {
          "base_uri": "https://localhost:8080/"
        }
      },
      "outputs": [
        {
          "output_type": "stream",
          "name": "stdout",
          "text": [
            "add(x1, x2, /, out=None, *, where=True, casting='same_kind', order='K', dtype=None, subok=True[, signature, extobj])\n",
            "\n",
            "Add arguments element-wise.\n",
            "\n",
            "Parameters\n",
            "----------\n",
            "x1, x2 : array_like\n",
            "    The arrays to be added.\n",
            "    If ``x1.shape != x2.shape``, they must be broadcastable to a common\n",
            "    shape (which becomes the shape of the output).\n",
            "out : ndarray, None, or tuple of ndarray and None, optional\n",
            "    A location into which the result is stored. If provided, it must have\n",
            "    a shape that the inputs broadcast to. If not provided or None,\n",
            "    a freshly-allocated array is returned. A tuple (possible only as a\n",
            "    keyword argument) must have length equal to the number of outputs.\n",
            "where : array_like, optional\n",
            "    This condition is broadcast over the input. At locations where the\n",
            "    condition is True, the `out` array will be set to the ufunc result.\n",
            "    Elsewhere, the `out` array will retain its original value.\n",
            "    Note that if an uninitialized `out` array is created via the default\n",
            "    ``out=None``, locations within it where the condition is False will\n",
            "    remain uninitialized.\n",
            "**kwargs\n",
            "    For other keyword-only arguments, see the\n",
            "    :ref:`ufunc docs <ufuncs.kwargs>`.\n",
            "\n",
            "Returns\n",
            "-------\n",
            "add : ndarray or scalar\n",
            "    The sum of `x1` and `x2`, element-wise.\n",
            "    This is a scalar if both `x1` and `x2` are scalars.\n",
            "\n",
            "Notes\n",
            "-----\n",
            "Equivalent to `x1` + `x2` in terms of array broadcasting.\n",
            "\n",
            "Examples\n",
            "--------\n",
            ">>> np.add(1.0, 4.0)\n",
            "5.0\n",
            ">>> x1 = np.arange(9.0).reshape((3, 3))\n",
            ">>> x2 = np.arange(3.0)\n",
            ">>> np.add(x1, x2)\n",
            "array([[  0.,   2.,   4.],\n",
            "       [  3.,   5.,   7.],\n",
            "       [  6.,   8.,  10.]])\n",
            "\n",
            "The ``+`` operator can be used as a shorthand for ``np.add`` on ndarrays.\n",
            "\n",
            ">>> x1 = np.arange(9.0).reshape((3, 3))\n",
            ">>> x2 = np.arange(3.0)\n",
            ">>> x1 + x2\n",
            "array([[ 0.,  2.,  4.],\n",
            "       [ 3.,  5.,  7.],\n",
            "       [ 6.,  8., 10.]])\n"
          ]
        }
      ],
      "source": [
        "np.info(np.add)"
      ]
    },
    {
      "cell_type": "markdown",
      "metadata": {
        "id": "fDQ2_Q2cLcg3"
      },
      "source": [
        "#### 6.  Create a null vector of size 10 but the fifth value which is 1 (★☆☆) \n",
        "(**hint**: array\\[4\\])"
      ]
    },
    {
      "cell_type": "code",
      "execution_count": null,
      "metadata": {
        "id": "rmXQsmlVLcg5",
        "outputId": "37dd6790-93c7-4a76-f8be-23bbdf918714",
        "colab": {
          "base_uri": "https://localhost:8080/"
        }
      },
      "outputs": [
        {
          "output_type": "stream",
          "name": "stdout",
          "text": [
            "[0. 0. 0. 0. 0. 0. 0. 0. 0. 0.]\n",
            "[0. 0. 0. 0. 1. 0. 0. 0. 0. 0.]\n"
          ]
        }
      ],
      "source": [
        "a = np.zeros(10)\n",
        "print(a)\n",
        "a[4]=1\n",
        "print(a)"
      ]
    },
    {
      "cell_type": "markdown",
      "metadata": {
        "id": "51dECt9QLcg5"
      },
      "source": [
        "#### 7.  Create a vector with values ranging from 10 to 49 (★☆☆) \n",
        "(**hint**: np.arange)"
      ]
    },
    {
      "cell_type": "code",
      "execution_count": null,
      "metadata": {
        "id": "tQugQzTDLcg7"
      },
      "outputs": [],
      "source": [
        "np.arange(10,49)"
      ]
    },
    {
      "cell_type": "markdown",
      "metadata": {
        "id": "ZBXwW3uALcg7"
      },
      "source": [
        "#### 8.  Reverse a vector (first element becomes last) (★☆☆) \n",
        "(**hint**: array\\[::-1\\])"
      ]
    },
    {
      "cell_type": "code",
      "execution_count": null,
      "metadata": {
        "id": "fIASN4OWLcg8",
        "outputId": "ba053683-3e4f-4de8-bffd-1963a6caed78",
        "colab": {
          "base_uri": "https://localhost:8080/"
        }
      },
      "outputs": [
        {
          "output_type": "stream",
          "name": "stdout",
          "text": [
            "[1 2 3 4 5 6 7 8 9]\n",
            "[9 8 7 6 5 4 3 2 1]\n"
          ]
        }
      ],
      "source": [
        "x=np.arange(1,10)\n",
        "print(x)\n",
        "print(x[::-1])"
      ]
    },
    {
      "cell_type": "markdown",
      "metadata": {
        "id": "j9INgqLcLcg9"
      },
      "source": [
        "#### 9.  Create a 3x3 matrix with values ranging from 0 to 8 (★☆☆) \n",
        "(**hint**: reshape)"
      ]
    },
    {
      "cell_type": "code",
      "execution_count": null,
      "metadata": {
        "id": "Uv_VgNfkLcg9",
        "outputId": "c234bda2-e4b3-4abe-b6d2-48ad52d787ad",
        "colab": {
          "base_uri": "https://localhost:8080/"
        }
      },
      "outputs": [
        {
          "output_type": "execute_result",
          "data": {
            "text/plain": [
              "array([[0, 1, 2],\n",
              "       [3, 4, 5],\n",
              "       [6, 7, 8]])"
            ]
          },
          "metadata": {},
          "execution_count": 14
        }
      ],
      "source": [
        "x=np.arange(9).reshape(3,3)\n",
        "x"
      ]
    },
    {
      "cell_type": "markdown",
      "metadata": {
        "id": "Acba7WoPLcg-"
      },
      "source": [
        "#### 10. Find indices of non-zero elements from \\[1,2,0,0,4,0\\] (★☆☆) \n",
        "(**hint**: np.nonzero)"
      ]
    },
    {
      "cell_type": "code",
      "execution_count": null,
      "metadata": {
        "id": "NMOCfes-Lcg-",
        "outputId": "59a1f307-dd4a-4e2d-df85-4ea8cb872ee9",
        "colab": {
          "base_uri": "https://localhost:8080/"
        }
      },
      "outputs": [
        {
          "output_type": "execute_result",
          "data": {
            "text/plain": [
              "(array([0, 1, 4]),)"
            ]
          },
          "metadata": {},
          "execution_count": 15
        }
      ],
      "source": [
        "x=[1,2,0,0,4,0]\n",
        "np.nonzero(x)"
      ]
    },
    {
      "cell_type": "markdown",
      "metadata": {
        "id": "6ZrDypvdLcg_"
      },
      "source": [
        "#### 11. Create a 3x3 identity matrix (★☆☆) \n",
        "(**hint**: np.eye)"
      ]
    },
    {
      "cell_type": "code",
      "execution_count": null,
      "metadata": {
        "id": "ehvZYqZoLcg_",
        "outputId": "2931fa48-13a5-47fb-c10b-6f2c70ae172d",
        "colab": {
          "base_uri": "https://localhost:8080/"
        }
      },
      "outputs": [
        {
          "output_type": "execute_result",
          "data": {
            "text/plain": [
              "array([[1., 0., 0.],\n",
              "       [0., 1., 0.],\n",
              "       [0., 0., 1.]])"
            ]
          },
          "metadata": {},
          "execution_count": 16
        }
      ],
      "source": [
        "np.eye(3, k=-0)"
      ]
    },
    {
      "cell_type": "markdown",
      "metadata": {
        "id": "Q40lS2ZxLchA"
      },
      "source": [
        "#### 12. Create a 3x3x3 array with random values (★☆☆) \n",
        "(**hint**: np.random.random)"
      ]
    },
    {
      "cell_type": "code",
      "execution_count": null,
      "metadata": {
        "collapsed": true,
        "id": "JC_pc3ozLchA",
        "outputId": "6731e8d8-9056-44a0-9d29-4578a1a153c7",
        "colab": {
          "base_uri": "https://localhost:8080/"
        }
      },
      "outputs": [
        {
          "output_type": "stream",
          "name": "stdout",
          "text": [
            "[[[0.53209773 0.37042136 0.08655062]\n",
            "  [0.90338329 0.61357669 0.37944406]\n",
            "  [0.22849816 0.3708399  0.4781988 ]]\n",
            "\n",
            " [[0.83405774 0.13775736 0.90997103]\n",
            "  [0.79498294 0.91841963 0.6459128 ]\n",
            "  [0.85431839 0.99121135 0.34510811]]\n",
            "\n",
            " [[0.05180995 0.06499543 0.70084963]\n",
            "  [0.94035102 0.30840631 0.54265613]\n",
            "  [0.1807124  0.07185184 0.828343  ]]]\n"
          ]
        }
      ],
      "source": [
        "a=np.random.rand(3,3,3)\n",
        "print(a)"
      ]
    },
    {
      "cell_type": "markdown",
      "metadata": {
        "id": "ox2v-fsFLchA"
      },
      "source": [
        "#### 13. Create a 10x10 array with random values and find the minimum and maximum values (★☆☆) \n",
        "(**hint**: min, max)"
      ]
    },
    {
      "cell_type": "code",
      "execution_count": null,
      "metadata": {
        "id": "qEXT5Q4FLchB",
        "outputId": "b886f556-dad8-4ce0-b411-a5a614ee6874",
        "colab": {
          "base_uri": "https://localhost:8080/"
        }
      },
      "outputs": [
        {
          "output_type": "stream",
          "name": "stdout",
          "text": [
            "0.004502957019156484\n",
            "0.9915473020140211\n"
          ]
        }
      ],
      "source": [
        "a=np.random.rand(10,10)\n",
        "print(np.amin(a))\n",
        "print(np.amax(a))"
      ]
    },
    {
      "cell_type": "markdown",
      "metadata": {
        "id": "VS3wFnyVLchB"
      },
      "source": [
        "#### 14. Create a random vector of size 30 and find the mean value (★☆☆) \n",
        "(**hint**: mean)"
      ]
    },
    {
      "cell_type": "code",
      "execution_count": null,
      "metadata": {
        "id": "IHFnll85LchB",
        "outputId": "853832b8-7394-4b61-fb84-350395e29563",
        "colab": {
          "base_uri": "https://localhost:8080/"
        }
      },
      "outputs": [
        {
          "output_type": "stream",
          "name": "stdout",
          "text": [
            "0.07552125284073874\n"
          ]
        }
      ],
      "source": [
        "a=np.random.randn(1, 30)\n",
        "print(np.mean(a))"
      ]
    },
    {
      "cell_type": "markdown",
      "metadata": {
        "id": "biLI-WrJLchC"
      },
      "source": [
        "#### 15. Create a 2d array with 1 on the border and 0 inside (★☆☆) \n",
        "(**hint**: array\\[1:-1, 1:-1\\])"
      ]
    },
    {
      "cell_type": "code",
      "execution_count": null,
      "metadata": {
        "id": "YBYXvpKaLchC",
        "outputId": "952edb0f-08ba-462d-9543-7d8202a0ce3a",
        "colab": {
          "base_uri": "https://localhost:8080/"
        }
      },
      "outputs": [
        {
          "output_type": "stream",
          "name": "stdout",
          "text": [
            "Original array:\n",
            "[[1. 1. 1. 1. 1.]\n",
            " [1. 1. 1. 1. 1.]\n",
            " [1. 1. 1. 1. 1.]\n",
            " [1. 1. 1. 1. 1.]\n",
            " [1. 1. 1. 1. 1.]]\n",
            "1 on the border and 0 inside in the array\n",
            "[[1. 1. 1. 1. 1.]\n",
            " [1. 0. 0. 0. 1.]\n",
            " [1. 0. 0. 0. 1.]\n",
            " [1. 0. 0. 0. 1.]\n",
            " [1. 1. 1. 1. 1.]]\n"
          ]
        }
      ],
      "source": [
        "x = np.ones((5,5))\n",
        "print(\"Original array:\")\n",
        "print(x)\n",
        "print(\"1 on the border and 0 inside the array\")\n",
        "x[1:-1,1:-1] = 0\n",
        "print(x)"
      ]
    },
    {
      "cell_type": "markdown",
      "metadata": {
        "id": "mDqHb8zwLchC"
      },
      "source": [
        "#### 16. How to add a border (filled with 0's) around an existing array? (★☆☆) \n",
        "(**hint**: np.pad)"
      ]
    },
    {
      "cell_type": "code",
      "execution_count": null,
      "metadata": {
        "id": "sdXo8m0hLchD",
        "outputId": "2561964c-a1cc-4223-d9e9-96a303ba3377",
        "colab": {
          "base_uri": "https://localhost:8080/"
        }
      },
      "outputs": [
        {
          "output_type": "stream",
          "name": "stdout",
          "text": [
            "[0 0 1 2 3 4 5 0 0 0]\n",
            "\n",
            "\n",
            "\n",
            "[[0. 0. 0. 0. 0. 0. 0. 0. 0. 0.]\n",
            " [0. 0. 0. 0. 0. 0. 0. 0. 0. 0.]\n",
            " [0. 0. 1. 1. 1. 1. 1. 0. 0. 0.]\n",
            " [0. 0. 1. 1. 1. 1. 1. 0. 0. 0.]\n",
            " [0. 0. 1. 1. 1. 1. 1. 0. 0. 0.]\n",
            " [0. 0. 1. 1. 1. 1. 1. 0. 0. 0.]\n",
            " [0. 0. 1. 1. 1. 1. 1. 0. 0. 0.]\n",
            " [0. 0. 0. 0. 0. 0. 0. 0. 0. 0.]\n",
            " [0. 0. 0. 0. 0. 0. 0. 0. 0. 0.]\n",
            " [0. 0. 0. 0. 0. 0. 0. 0. 0. 0.]]\n"
          ]
        }
      ],
      "source": [
        "a = [1, 2, 3, 4, 5]\n",
        "print(np.pad(a, (2, 3), 'constant', constant_values=(0, 0)))\n",
        "print(\"\\n\\n\")\n",
        "x = np.ones((5,5))\n",
        "print(np.pad(x, (2, 3), 'constant', constant_values=(0, 0)))"
      ]
    },
    {
      "cell_type": "markdown",
      "metadata": {
        "id": "8N6UoPstLchD"
      },
      "source": [
        "#### 17. What is the result of the following expression? (★☆☆) \n",
        "(**hint**: NaN = not a number, inf = infinity)"
      ]
    },
    {
      "cell_type": "markdown",
      "metadata": {
        "id": "uxETledlLchD"
      },
      "source": [
        "```python\n",
        "0 * np.nan\n",
        "np.nan == np.nan\n",
        "np.inf > np.nan\n",
        "np.nan - np.nan\n",
        "0.3 == 3 * 0.1\n",
        "```"
      ]
    },
    {
      "cell_type": "code",
      "execution_count": null,
      "metadata": {
        "id": "e59FUriHLchE",
        "outputId": "c9246695-69d8-4ec2-f817-3258f785e0b1",
        "colab": {
          "base_uri": "https://localhost:8080/"
        }
      },
      "outputs": [
        {
          "output_type": "stream",
          "name": "stdout",
          "text": [
            "nan \n",
            " False \n",
            " False \n",
            " nan \n",
            " False\n"
          ]
        }
      ],
      "source": [
        "print(0 * np.nan,\"\\n\",\n",
        "np.nan == np.nan,\"\\n\",\n",
        "np.inf > np.nan,\"\\n\",\n",
        "np.nan - np.nan,\"\\n\",\n",
        "0.3 == 3 * 0.1)"
      ]
    },
    {
      "cell_type": "markdown",
      "metadata": {
        "id": "mPbopA8YLchE"
      },
      "source": [
        "#### 18. Create a 5x5 matrix with values 1,2,3,4 just below the diagonal (★☆☆) \n",
        "(**hint**: np.diag)"
      ]
    },
    {
      "cell_type": "code",
      "execution_count": null,
      "metadata": {
        "id": "zjt_Sjp1LchF"
      },
      "outputs": [],
      "source": [
        ""
      ]
    },
    {
      "cell_type": "markdown",
      "metadata": {
        "id": "JyqYKgzvLchF"
      },
      "source": [
        "#### 19. Create a 8x8 matrix and fill it with a checkerboard pattern (★☆☆) \n",
        "(**hint**: array\\[::2\\])"
      ]
    },
    {
      "cell_type": "code",
      "execution_count": null,
      "metadata": {
        "id": "xNj2UB2aLchF",
        "outputId": "7412f566-23b2-4e89-b193-96a5802c86e9",
        "colab": {
          "base_uri": "https://localhost:8080/"
        }
      },
      "outputs": [
        {
          "output_type": "stream",
          "name": "stdout",
          "text": [
            "[[0 1 0 1 0 1 0 1]\n",
            " [1 0 1 0 1 0 1 0]\n",
            " [0 1 0 1 0 1 0 1]\n",
            " [1 0 1 0 1 0 1 0]\n",
            " [0 1 0 1 0 1 0 1]\n",
            " [1 0 1 0 1 0 1 0]\n",
            " [0 1 0 1 0 1 0 1]\n",
            " [1 0 1 0 1 0 1 0]]\n"
          ]
        }
      ],
      "source": [
        "x = np.zeros((8,8),dtype=int)\n",
        "x[1::2,::2] = 1\n",
        "x[::2,1::2] = 1\n",
        "print(x)"
      ]
    },
    {
      "cell_type": "markdown",
      "metadata": {
        "id": "e2jU0GX1LchF"
      },
      "source": [
        "#### 20. Consider a (6,7,8) shape array, what is the index (x,y,z) of the 100th element? \n",
        "(**hint**: np.unravel_index)"
      ]
    },
    {
      "cell_type": "code",
      "execution_count": null,
      "metadata": {
        "id": "ZWjzCNf4LchG",
        "outputId": "957edd7a-4ed5-4c3b-9c6b-b00cd905a43a",
        "colab": {
          "base_uri": "https://localhost:8080/"
        }
      },
      "outputs": [
        {
          "output_type": "execute_result",
          "data": {
            "text/plain": [
              "(1, 5, 4)"
            ]
          },
          "metadata": {},
          "execution_count": 10
        }
      ],
      "source": [
        "# arr=np.random.rand(6,7,8)\n",
        "# print(arr)\n",
        "np.unravel_index(100, (6,7,8))"
      ]
    },
    {
      "cell_type": "markdown",
      "metadata": {
        "id": "FQPng80kLchG"
      },
      "source": [
        "#### 21. Create a checkerboard 8x8 matrix using the tile function (★☆☆) \n",
        "(**hint**: np.tile)"
      ]
    },
    {
      "cell_type": "code",
      "execution_count": null,
      "metadata": {
        "id": "Bc7h1GwfLchH",
        "outputId": "81a740e4-47d4-4b19-f551-cdd192c72f24",
        "colab": {
          "base_uri": "https://localhost:8080/"
        }
      },
      "outputs": [
        {
          "output_type": "execute_result",
          "data": {
            "text/plain": [
              "array([[1, 0, 1, 0, 1, 0, 1, 0, 1, 0, 1, 0, 1, 0, 1, 0],\n",
              "       [0, 1, 0, 1, 0, 1, 0, 1, 0, 1, 0, 1, 0, 1, 0, 1],\n",
              "       [1, 0, 1, 0, 1, 0, 1, 0, 1, 0, 1, 0, 1, 0, 1, 0],\n",
              "       [0, 1, 0, 1, 0, 1, 0, 1, 0, 1, 0, 1, 0, 1, 0, 1],\n",
              "       [1, 0, 1, 0, 1, 0, 1, 0, 1, 0, 1, 0, 1, 0, 1, 0],\n",
              "       [0, 1, 0, 1, 0, 1, 0, 1, 0, 1, 0, 1, 0, 1, 0, 1],\n",
              "       [1, 0, 1, 0, 1, 0, 1, 0, 1, 0, 1, 0, 1, 0, 1, 0],\n",
              "       [0, 1, 0, 1, 0, 1, 0, 1, 0, 1, 0, 1, 0, 1, 0, 1],\n",
              "       [1, 0, 1, 0, 1, 0, 1, 0, 1, 0, 1, 0, 1, 0, 1, 0],\n",
              "       [0, 1, 0, 1, 0, 1, 0, 1, 0, 1, 0, 1, 0, 1, 0, 1],\n",
              "       [1, 0, 1, 0, 1, 0, 1, 0, 1, 0, 1, 0, 1, 0, 1, 0],\n",
              "       [0, 1, 0, 1, 0, 1, 0, 1, 0, 1, 0, 1, 0, 1, 0, 1],\n",
              "       [1, 0, 1, 0, 1, 0, 1, 0, 1, 0, 1, 0, 1, 0, 1, 0],\n",
              "       [0, 1, 0, 1, 0, 1, 0, 1, 0, 1, 0, 1, 0, 1, 0, 1],\n",
              "       [1, 0, 1, 0, 1, 0, 1, 0, 1, 0, 1, 0, 1, 0, 1, 0],\n",
              "       [0, 1, 0, 1, 0, 1, 0, 1, 0, 1, 0, 1, 0, 1, 0, 1]])"
            ]
          },
          "metadata": {},
          "execution_count": 11
        }
      ],
      "source": [
        "b = np.array([[1, 0], [0, 1]])\n",
        "\n",
        "np.tile(b, (8, 8))"
      ]
    },
    {
      "cell_type": "markdown",
      "metadata": {
        "id": "N0M7SLatLchH"
      },
      "source": [
        "#### 22. Normalize a 5x5 random matrix (★☆☆) \n",
        "(**hint**: (x - min) / (max - min))"
      ]
    },
    {
      "cell_type": "code",
      "execution_count": null,
      "metadata": {
        "id": "m7KXxJl-LchI",
        "outputId": "c5fe6f55-05b6-4c06-803a-0c705eee4f12",
        "colab": {
          "base_uri": "https://localhost:8080/"
        }
      },
      "outputs": [
        {
          "output_type": "stream",
          "name": "stdout",
          "text": [
            "Original Array:\n",
            "[[0.44551629 0.43612916 0.22650012 0.61941574 0.88300002]\n",
            " [0.90361519 0.88806911 0.41638948 0.64520331 0.41521283]\n",
            " [0.95381303 0.33207053 0.75906671 0.96860582 0.14567695]\n",
            " [0.97514041 0.07588463 0.17177907 0.94179325 0.87833192]\n",
            " [0.18780389 0.92684848 0.38967188 0.30547927 0.80952245]]\n",
            "After normalization:\n",
            "[[0.41104173 0.40060296 0.16748904 0.60442326 0.89753706]\n",
            " [0.92046176 0.90317404 0.37865184 0.63309982 0.37734337]\n",
            " [0.97628329 0.28488657 0.75971942 0.99273333 0.0776112 ]\n",
            " [1.         0.         0.10663755 0.96291693 0.89234599]\n",
            " [0.12445765 0.94629789 0.34894104 0.25531628 0.81582775]]\n"
          ]
        }
      ],
      "source": [
        "x= np.random.random((5,5))\n",
        "print(\"Original Array:\")\n",
        "print(x)\n",
        "max, min = x.max(), x.min()\n",
        "x = (x - min)/(max - min)\n",
        "print(\"After normalization:\")\n",
        "print(x)"
      ]
    },
    {
      "cell_type": "markdown",
      "metadata": {
        "id": "fqavN_wjLchI"
      },
      "source": [
        "#### 23. Create a custom dtype that describes a color as four unsigned bytes (RGBA) (★☆☆) \n",
        "(**hint**: np.dtype)"
      ]
    },
    {
      "cell_type": "code",
      "execution_count": null,
      "metadata": {
        "collapsed": true,
        "id": "Ds3nQfBkLchI",
        "outputId": "330872a6-005c-4fb6-e35a-c463deb4585e",
        "colab": {
          "base_uri": "https://localhost:8080/"
        }
      },
      "outputs": [
        {
          "output_type": "execute_result",
          "data": {
            "text/plain": [
              "dtype([('R', '<u8'), ('G', '<i4'), ('B', '<i4'), ('A', '<i4')])"
            ]
          },
          "metadata": {},
          "execution_count": 13
        }
      ],
      "source": [
        "np.dtype([('R', np.uint64), ('G', np.int32), ('B', np.int32), ('A', np.int32)])"
      ]
    },
    {
      "cell_type": "markdown",
      "metadata": {
        "id": "AUijeb6SLchJ"
      },
      "source": [
        "#### 24. Multiply a 5x3 matrix by a 3x2 matrix (real matrix product) (★☆☆) \n",
        "(**hint**: np.dot | @)"
      ]
    },
    {
      "cell_type": "code",
      "execution_count": null,
      "metadata": {
        "id": "MzhLIuq1LchJ",
        "outputId": "b45397e4-23ac-47df-eff1-cfa2493c2a33",
        "colab": {
          "base_uri": "https://localhost:8080/"
        }
      },
      "outputs": [
        {
          "output_type": "stream",
          "name": "stdout",
          "text": [
            "X Matrix:\n",
            "[[0.34340648 0.52746068 0.39635514]\n",
            " [0.51451071 0.79121176 0.13245905]\n",
            " [0.97917525 0.47008729 0.02615626]\n",
            " [0.45353868 0.98038449 0.66740303]\n",
            " [0.91675396 0.34605385 0.87147867]]\n",
            "Y matrix:\n",
            "[[0.17754253 0.15853536]\n",
            " [0.88153335 0.63215544]\n",
            " [0.77211524 0.78398871]]\n"
          ]
        },
        {
          "output_type": "execute_result",
          "data": {
            "text/plain": [
              "array([[0.83197528, 0.69861717],\n",
              "       [0.89110073, 0.68558335],\n",
              "       [0.60843853, 0.47290836],\n",
              "       [1.46007608, 1.21489375],\n",
              "       [1.14070279, 1.04732718]])"
            ]
          },
          "metadata": {},
          "execution_count": 14
        }
      ],
      "source": [
        "x= np.random.random((5,3))\n",
        "print(\"X Matrix:\")\n",
        "print(x)\n",
        "y= np.random.random((3,2))\n",
        "print(\"Y matrix:\")\n",
        "print(y)\n",
        "np.dot(x,y)"
      ]
    },
    {
      "cell_type": "markdown",
      "metadata": {
        "id": "DNZ1CvQWLchJ"
      },
      "source": [
        "#### 25. Given a 1D array, negate all elements which are between 3 and 8, in place. (★☆☆) \n",
        "(**hint**: >, <=)"
      ]
    },
    {
      "cell_type": "code",
      "execution_count": null,
      "metadata": {
        "id": "Bc1bzIZzLchJ",
        "outputId": "aa91f6b8-2d52-40e0-b95f-b3826277b386",
        "colab": {
          "base_uri": "https://localhost:8080/"
        }
      },
      "outputs": [
        {
          "output_type": "execute_result",
          "data": {
            "text/plain": [
              "array([ 0,  1,  2, -3, -4, -5, -6, -7, -8,  9, 10])"
            ]
          },
          "metadata": {},
          "execution_count": 15
        }
      ],
      "source": [
        "arr=np.arange(11)\n",
        "condition = np.logical_and(arr > 2, arr <= 8)\n",
        "arr = np.select([~condition, condition], [arr, -arr])\n",
        "arr"
      ]
    },
    {
      "cell_type": "markdown",
      "metadata": {
        "id": "MHQjreZYLchK"
      },
      "source": [
        "#### 26. What is the output of the following script? (★☆☆) \n",
        "(**hint**: np.sum)"
      ]
    },
    {
      "cell_type": "markdown",
      "metadata": {
        "id": "DbQES2NCLchK"
      },
      "source": [
        "```python\n",
        "# Author: Jake VanderPlas\n",
        "\n",
        "print(sum(range(5),-1))\n",
        "from numpy import *\n",
        "print(sum(range(5),-1))\n",
        "```"
      ]
    },
    {
      "cell_type": "code",
      "execution_count": null,
      "metadata": {
        "id": "akAUjVB7LchK",
        "outputId": "e8901ec0-4d7c-4037-9f72-b4f32c00399f",
        "colab": {
          "base_uri": "https://localhost:8080/"
        }
      },
      "outputs": [
        {
          "output_type": "stream",
          "name": "stdout",
          "text": [
            "9\n",
            "10\n"
          ]
        }
      ],
      "source": [
        "print(sum(range(5),-1))\n",
        "from numpy import *\n",
        "print(sum(range(5),-1))"
      ]
    },
    {
      "cell_type": "markdown",
      "metadata": {
        "id": "6ed_6ZdXLchK"
      },
      "source": [
        "#### 27. Consider an integer vector Z, which of these expressions are legal? (★☆☆)"
      ]
    },
    {
      "cell_type": "markdown",
      "metadata": {
        "id": "kn80cL2OLchL"
      },
      "source": [
        "```python\n",
        "Z**Z\n",
        "2 << Z >> 2\n",
        "Z <- Z\n",
        "1j*Z\n",
        "Z/1/1\n",
        "Z<Z>Z\n",
        "```"
      ]
    },
    {
      "cell_type": "code",
      "execution_count": null,
      "metadata": {
        "id": "rHiOP7HfLchL"
      },
      "outputs": [],
      "source": [
        ""
      ]
    },
    {
      "cell_type": "markdown",
      "metadata": {
        "id": "U7v_PNMmLchL"
      },
      "source": [
        "#### 28. What are the result of the following expressions?"
      ]
    },
    {
      "cell_type": "markdown",
      "metadata": {
        "id": "Y0H3SRQMLchL"
      },
      "source": [
        "```python\n",
        "np.array(0) / np.array(0)\n",
        "np.array(0) // np.array(0)\n",
        "np.array([np.nan]).astype(int).astype(float)\n",
        "```"
      ]
    },
    {
      "cell_type": "code",
      "execution_count": null,
      "metadata": {
        "id": "dPU6mRpbLchM",
        "outputId": "b978f462-a3c3-4b5b-82ee-9b65ae297c4b",
        "colab": {
          "base_uri": "https://localhost:8080/"
        }
      },
      "outputs": [
        {
          "output_type": "stream",
          "name": "stdout",
          "text": [
            "nan\n",
            "0\n",
            "[-9.22337204e+18]\n"
          ]
        },
        {
          "output_type": "stream",
          "name": "stderr",
          "text": [
            "/usr/local/lib/python3.7/dist-packages/ipykernel_launcher.py:1: RuntimeWarning: invalid value encountered in true_divide\n",
            "  \"\"\"Entry point for launching an IPython kernel.\n",
            "/usr/local/lib/python3.7/dist-packages/ipykernel_launcher.py:2: RuntimeWarning: divide by zero encountered in floor_divide\n",
            "  \n"
          ]
        }
      ],
      "source": [
        "print(np.array(0) / np.array(0))\n",
        "print(np.array(0) // np.array(0))\n",
        "print(np.array([np.nan]).astype(int).astype(float))"
      ]
    },
    {
      "cell_type": "markdown",
      "metadata": {
        "id": "CvjK2K3_LchM"
      },
      "source": [
        "#### 29. How to round away from zero a float array ? (★☆☆) \n",
        "(**hint**: np.uniform, np.copysign, np.ceil, np.abs)"
      ]
    },
    {
      "cell_type": "code",
      "execution_count": null,
      "metadata": {
        "id": "GfcGUM8RLchM",
        "outputId": "75bdafeb-17d7-4ae0-9b84-3921a7690961",
        "colab": {
          "base_uri": "https://localhost:8080/"
        }
      },
      "outputs": [
        {
          "output_type": "stream",
          "name": "stdout",
          "text": [
            "[[0.42858806 0.10852723 0.10902405]\n",
            " [0.68301614 0.55860169 0.35028066]\n",
            " [0.58621725 0.49043834 0.84318033]]\n",
            "------------------------------\n",
            "[[-0.42858806 -0.10852723 -0.10902405]\n",
            " [-0.68301614 -0.55860169 -0.35028066]\n",
            " [-0.58621725 -0.49043834 -0.84318033]]\n",
            "------------------------------\n",
            "[[1. 1. 1.]\n",
            " [1. 1. 1.]\n",
            " [1. 1. 1.]]\n",
            "------------------------------\n",
            "[[0.42858806 0.10852723 0.10902405]\n",
            " [0.68301614 0.55860169 0.35028066]\n",
            " [0.58621725 0.49043834 0.84318033]]\n"
          ]
        }
      ],
      "source": [
        "a=np.random.rand(3,3)\n",
        "print(a)\n",
        "print(\"------------------------------\")\n",
        "print(np.copysign(a,-1))\n",
        "print(\"------------------------------\")\n",
        "print(np.ceil(a))\n",
        "print(\"------------------------------\")\n",
        "print(np.absolute(a))"
      ]
    },
    {
      "cell_type": "markdown",
      "metadata": {
        "id": "HRNYX8fyLchM"
      },
      "source": [
        "#### 30. How to find common values between two arrays? (★☆☆) \n",
        "(**hint**: np.intersect1d)"
      ]
    },
    {
      "cell_type": "code",
      "execution_count": null,
      "metadata": {
        "id": "2W74UMXbLchM",
        "outputId": "3abc5c52-038f-414d-c6ca-15449bff156a",
        "colab": {
          "base_uri": "https://localhost:8080/"
        }
      },
      "outputs": [
        {
          "output_type": "stream",
          "name": "stdout",
          "text": [
            "------------------------------\n",
            "[ 1  2  3  4  5  6  7  8  9 10 11 12 13 14 15 16 17 18 19 20 21 22 23 24\n",
            " 25 26 27 28 29 30 31 32 33 34 35 36 37 38 39 40 41 42 43 44 45 46 47 48]\n",
            "------------------------------\n",
            "[11 12 13 14 15 16 17 18 19 20 21 22 23 24 25 26 27 28]\n",
            "------------------------------\n",
            "[11 12 13 14 15 16 17 18 19 20 21 22 23 24 25 26 27 28]\n"
          ]
        }
      ],
      "source": [
        "ar1=np.arange(1,49)\n",
        "ar2=np.arange(11,29)\n",
        "\n",
        "print(\"------------------------------\")\n",
        "print(ar1)\n",
        "print(\"------------------------------\")\n",
        "print(ar2)\n",
        "print(\"------------------------------\")\n",
        "print(np.intersect1d(ar1, ar2))"
      ]
    },
    {
      "cell_type": "markdown",
      "metadata": {
        "id": "TpozA9_JLchN"
      },
      "source": [
        "#### 31. How to ignore all numpy warnings (not recommended)? (★☆☆) \n",
        "(**hint**: np.seterr, np.errstate)"
      ]
    },
    {
      "cell_type": "code",
      "execution_count": null,
      "metadata": {
        "id": "MTiqcz9ZLchN",
        "outputId": "550e460a-0987-4bb9-f821-d8861939bb4f",
        "colab": {
          "base_uri": "https://localhost:8080/"
        }
      },
      "outputs": [
        {
          "output_type": "execute_result",
          "data": {
            "text/plain": [
              "<numpy.errstate at 0x7fe4cbac3810>"
            ]
          },
          "metadata": {},
          "execution_count": 22
        }
      ],
      "source": [
        "np.seterr(all='ignore')\n",
        "np.errstate(divide='ignore')"
      ]
    },
    {
      "cell_type": "markdown",
      "metadata": {
        "id": "modgIimaLchN"
      },
      "source": [
        "#### 32. Is the following expressions true? (★☆☆) \n",
        "(**hint**: imaginary number)"
      ]
    },
    {
      "cell_type": "markdown",
      "metadata": {
        "id": "cBT7CxYxLchN"
      },
      "source": [
        "```python\n",
        "np.sqrt(-1) == np.emath.sqrt(-1)\n",
        "```"
      ]
    },
    {
      "cell_type": "code",
      "execution_count": null,
      "metadata": {
        "id": "SOQhvdJ8LchN",
        "outputId": "6f52d8d5-4086-4b82-f5bb-1c28129d3d2d",
        "colab": {
          "base_uri": "https://localhost:8080/"
        }
      },
      "outputs": [
        {
          "output_type": "execute_result",
          "data": {
            "text/plain": [
              "False"
            ]
          },
          "metadata": {},
          "execution_count": 23
        }
      ],
      "source": [
        "np.sqrt(-1) == np.emath.sqrt(-1)"
      ]
    },
    {
      "cell_type": "markdown",
      "metadata": {
        "id": "rYONw2W7LchO"
      },
      "source": [
        "#### 33. How to get the dates of yesterday, today and tomorrow? (★☆☆) \n",
        "(**hint**: np.datetime64, np.timedelta64)"
      ]
    },
    {
      "cell_type": "code",
      "execution_count": null,
      "metadata": {
        "collapsed": true,
        "id": "AEpswuWRLchO",
        "outputId": "5fba00cd-e1f7-44ff-8072-496de6be5d11",
        "colab": {
          "base_uri": "https://localhost:8080/"
        }
      },
      "outputs": [
        {
          "output_type": "stream",
          "name": "stdout",
          "text": [
            "2022-06-03\n",
            "2022-06-02\n",
            "2022-06-04\n"
          ]
        }
      ],
      "source": [
        "today = np.datetime64('today', 'D')\n",
        "yesterday = np.datetime64('today', 'D') - np.timedelta64(1, 'D')\n",
        "tomorrow =np.datetime64('today', 'D') + np.timedelta64(1, 'D')\n",
        "\n",
        "print(today)\n",
        "print(yesterday)\n",
        "print(tomorrow)"
      ]
    },
    {
      "cell_type": "markdown",
      "metadata": {
        "id": "LsuQxUyPLchO"
      },
      "source": [
        "#### 34. How to get all the dates corresponding to the month of July 2016? (★★☆) \n",
        "(**hint**: np.arange(dtype=datetime64\\['D'\\]))"
      ]
    },
    {
      "cell_type": "code",
      "execution_count": null,
      "metadata": {
        "id": "1OzjNXR2LchO",
        "outputId": "2daf6518-8fdf-401c-891c-482b7d974f87",
        "colab": {
          "base_uri": "https://localhost:8080/"
        }
      },
      "outputs": [
        {
          "output_type": "stream",
          "name": "stdout",
          "text": [
            "['2016-07-01' '2016-07-02' '2016-07-03' '2016-07-04' '2016-07-05'\n",
            " '2016-07-06' '2016-07-07' '2016-07-08' '2016-07-09' '2016-07-10'\n",
            " '2016-07-11' '2016-07-12' '2016-07-13' '2016-07-14' '2016-07-15'\n",
            " '2016-07-16' '2016-07-17' '2016-07-18' '2016-07-19' '2016-07-20'\n",
            " '2016-07-21' '2016-07-22' '2016-07-23' '2016-07-24' '2016-07-25'\n",
            " '2016-07-26' '2016-07-27' '2016-07-28' '2016-07-29' '2016-07-30'\n",
            " '2016-07-31']\n"
          ]
        }
      ],
      "source": [
        "print(np.arange('2016-07', '2016-08',dtype='datetime64[D]'))"
      ]
    },
    {
      "cell_type": "markdown",
      "metadata": {
        "id": "w-o7Yso0LchO"
      },
      "source": [
        "#### 35. How to compute ((A+B)\\*(-A/2)) in place (without copy)? (★★☆) \n",
        "(**hint**: np.add(out=), np.negative(out=), np.multiply(out=), np.divide(out=))"
      ]
    },
    {
      "cell_type": "code",
      "execution_count": null,
      "metadata": {
        "id": "t4GRZcS7LchP",
        "outputId": "d9a0483e-da4c-4005-f3c5-6f07f0b80a6a",
        "colab": {
          "base_uri": "https://localhost:8080/"
        }
      },
      "outputs": [
        {
          "output_type": "stream",
          "name": "stdout",
          "text": [
            "-5.0\n"
          ]
        }
      ],
      "source": [
        "a=2\n",
        "b=3\n",
        "print(np.multiply(np.add(a,b),(np.divide(-a,2))))"
      ]
    },
    {
      "cell_type": "markdown",
      "metadata": {
        "id": "y8lHMw4BLchP"
      },
      "source": [
        "#### 36. Extract the integer part of a random array using 5 different methods (★★☆) \n",
        "(**hint**: %, np.floor, np.ceil, astype, np.trunc)"
      ]
    },
    {
      "cell_type": "code",
      "execution_count": null,
      "metadata": {
        "id": "arBhsIR3LchP",
        "outputId": "6801b5fb-9fbd-409a-a575-184bc1d3420b",
        "colab": {
          "base_uri": "https://localhost:8080/"
        }
      },
      "outputs": [
        {
          "output_type": "stream",
          "name": "stdout",
          "text": [
            "------------------------------\n",
            "[-2. -2. -1.  0.  1.  1.  2.]\n",
            "------------------------------\n",
            "[-1. -1. -0.  1.  2.  2.  2.]\n",
            "------------------------------\n",
            "[-1. -1. -0.  0.  1.  1.  2.]\n"
          ]
        }
      ],
      "source": [
        "a = np.array([-1.7, -1.5, -0.2, 0.2, 1.5, 1.7, 2.0])\n",
        "print(\"------------------------------\")\n",
        "print(np.floor(a))\n",
        "print(\"------------------------------\")\n",
        "print(np.ceil(a))\n",
        "print(\"------------------------------\")\n",
        "print(np.trunc(a))"
      ]
    },
    {
      "cell_type": "markdown",
      "metadata": {
        "id": "sBS4CS4NLchP"
      },
      "source": [
        "#### 37. Create a 5x5 matrix with row values ranging from 0 to 4 (★★☆) \n",
        "(**hint**: np.arange)"
      ]
    },
    {
      "cell_type": "code",
      "execution_count": null,
      "metadata": {
        "id": "xjpwCkMdLchQ",
        "outputId": "86e798e7-028e-4b77-ced4-39f5a6e24e77",
        "colab": {
          "base_uri": "https://localhost:8080/"
        }
      },
      "outputs": [
        {
          "output_type": "stream",
          "name": "stdout",
          "text": [
            "[[0 3 0 3 2]\n",
            " [2 1 2 3 1]\n",
            " [2 2 1 0 0]\n",
            " [0 1 0 0 2]\n",
            " [1 3 1 3 2]]\n"
          ]
        }
      ],
      "source": [
        "a=np.random.randint(0,4, size=(5, 5))\n",
        "print(a)"
      ]
    },
    {
      "cell_type": "markdown",
      "metadata": {
        "id": "rG1UB8QdLchQ"
      },
      "source": [
        "#### 38. Consider a generator function that generates 10 integers and use it to build an array (★☆☆) \n",
        "(**hint**: np.fromiter)"
      ]
    },
    {
      "cell_type": "code",
      "execution_count": null,
      "metadata": {
        "id": "WADAMQQELchQ",
        "outputId": "e20aeb90-3afd-439e-98ba-62a05b51ffe8",
        "colab": {
          "base_uri": "https://localhost:8080/"
        }
      },
      "outputs": [
        {
          "output_type": "execute_result",
          "data": {
            "text/plain": [
              "array([ 0.,  1.,  2.,  3.,  4.,  5.,  6.,  7.,  8.,  9., 10.])"
            ]
          },
          "metadata": {},
          "execution_count": 30
        }
      ],
      "source": [
        "iterable = (x for x in range(11))\n",
        "np.fromiter(iterable, float)"
      ]
    },
    {
      "cell_type": "markdown",
      "metadata": {
        "id": "8z1ZDmmHLchQ"
      },
      "source": [
        "#### 39. Create a vector of size 10 with values ranging from 0 to 1, both excluded (★★☆) \n",
        "(**hint**: np.linspace)"
      ]
    },
    {
      "cell_type": "code",
      "execution_count": null,
      "metadata": {
        "id": "udHVY-cELchQ",
        "outputId": "465900be-8408-4f21-dc85-df51c52a3be5",
        "colab": {
          "base_uri": "https://localhost:8080/"
        }
      },
      "outputs": [
        {
          "output_type": "execute_result",
          "data": {
            "text/plain": [
              "array([0.        , 0.11111111, 0.22222222, 0.33333333, 0.44444444,\n",
              "       0.55555556, 0.66666667, 0.77777778, 0.88888889, 1.        ])"
            ]
          },
          "metadata": {},
          "execution_count": 31
        }
      ],
      "source": [
        "np.linspace(0, 1, num=10)"
      ]
    },
    {
      "cell_type": "markdown",
      "metadata": {
        "id": "NrXPU_5YLchR"
      },
      "source": [
        "#### 40. Create a random vector of size 10 and sort it (★★☆) \n",
        "(**hint**: sort)"
      ]
    },
    {
      "cell_type": "code",
      "execution_count": null,
      "metadata": {
        "id": "cC8_36SgLchR",
        "outputId": "3f37a6a3-5e38-421b-cb80-6a4be5b9f94f",
        "colab": {
          "base_uri": "https://localhost:8080/"
        }
      },
      "outputs": [
        {
          "output_type": "stream",
          "name": "stdout",
          "text": [
            "[[0.39359165 0.12563333]\n",
            " [0.61438827 0.15031071]\n",
            " [0.07910038 0.06047609]\n",
            " [0.96292112 0.04192165]\n",
            " [0.87343309 0.47553633]]\n"
          ]
        },
        {
          "output_type": "execute_result",
          "data": {
            "text/plain": [
              "array([[0.12563333, 0.39359165],\n",
              "       [0.15031071, 0.61438827],\n",
              "       [0.06047609, 0.07910038],\n",
              "       [0.04192165, 0.96292112],\n",
              "       [0.47553633, 0.87343309]])"
            ]
          },
          "metadata": {},
          "execution_count": 32
        }
      ],
      "source": [
        "arr=np.random.rand(5,2)\n",
        "print(arr)\n",
        "np.sort(arr)X = np.arange(8).reshape((2,2,2))\n",
        "print(X)\n",
        "np.add.reduce(X, 0)"
      ]
    },
    {
      "cell_type": "markdown",
      "metadata": {
        "id": "tQdkLH3rLchR"
      },
      "source": [
        "#### 41. How to sum a small array faster than np.sum? (★★☆) \n",
        "(**hint**: np.add.reduce)"
      ]
    },
    {
      "cell_type": "code",
      "execution_count": 2,
      "metadata": {
        "id": "7zLCtUqMLchR",
        "colab": {
          "base_uri": "https://localhost:8080/"
        },
        "outputId": "0df293ea-aa4c-456c-df06-1f8ee2ca6004"
      },
      "outputs": [
        {
          "output_type": "stream",
          "name": "stdout",
          "text": [
            "[[[0 1]\n",
            "  [2 3]]\n",
            "\n",
            " [[4 5]\n",
            "  [6 7]]]\n"
          ]
        },
        {
          "output_type": "execute_result",
          "data": {
            "text/plain": [
              "array([[ 4,  6],\n",
              "       [ 8, 10]])"
            ]
          },
          "metadata": {},
          "execution_count": 2
        }
      ],
      "source": [
        "X = np.arange(8).reshape((2,2,2))\n",
        "print(X)\n",
        "np.add.reduce(X, 0)"
      ]
    },
    {
      "cell_type": "markdown",
      "metadata": {
        "id": "nPlqrEAyLchS"
      },
      "source": [
        "#### 42. Consider two random array A and B, check if they are equal (★★☆) \n",
        "(**hint**: np.allclose, np.array\\_equal)"
      ]
    },
    {
      "cell_type": "code",
      "execution_count": 3,
      "metadata": {
        "id": "0eabtVcELchS",
        "colab": {
          "base_uri": "https://localhost:8080/"
        },
        "outputId": "2a651f20-e5b3-43c8-901d-28cb6333ac93"
      },
      "outputs": [
        {
          "output_type": "stream",
          "name": "stdout",
          "text": [
            "[[0.90291121 0.14387623]\n",
            " [0.18550074 0.53564563]\n",
            " [0.62987638 0.39073852]\n",
            " [0.70952524 0.83837587]\n",
            " [0.09541752 0.69532178]]\n",
            "[[0.84005052 0.13985826]\n",
            " [0.17258407 0.390637  ]\n",
            " [0.14907243 0.85308063]\n",
            " [0.43309434 0.68158593]\n",
            " [0.2989463  0.75932059]]\n",
            "------------------------------\n",
            "False\n",
            "------------------------------\n",
            "False\n"
          ]
        }
      ],
      "source": [
        "x=np.random.rand(5,2)\n",
        "print(x)\n",
        "y=np.random.rand(5,2)\n",
        "print(y)\n",
        "print(\"------------------------------\")\n",
        "print(np.allclose(x,y))\n",
        "print(\"------------------------------\")\n",
        "print(np.array_equal(x,y))"
      ]
    },
    {
      "cell_type": "markdown",
      "metadata": {
        "id": "Scbw9L3eLchS"
      },
      "source": [
        "#### 43. Make an array immutable (read-only) (★★☆) \n",
        "(**hint**: flags.writeable)"
      ]
    },
    {
      "cell_type": "code",
      "execution_count": 4,
      "metadata": {
        "id": "i2sXLFK1LchS"
      },
      "outputs": [],
      "source": [
        ""
      ]
    },
    {
      "cell_type": "markdown",
      "metadata": {
        "id": "o1mGn005LchT"
      },
      "source": [
        "#### 44. Consider a random 10x2 matrix representing cartesian coordinates, convert them to polar coordinates (★★☆) \n",
        "(**hint**: np.sqrt, np.arctan2)"
      ]
    },
    {
      "cell_type": "code",
      "execution_count": 5,
      "metadata": {
        "id": "qUPltCcpLchT",
        "colab": {
          "base_uri": "https://localhost:8080/"
        },
        "outputId": "a97014fd-f87f-4d4d-ff7c-05ea1252af54"
      },
      "outputs": [
        {
          "output_type": "stream",
          "name": "stdout",
          "text": [
            "[[0.66687163 0.58460675]\n",
            " [0.07256827 0.07669766]\n",
            " [0.35246884 0.39141113]\n",
            " [0.98174816 0.38169845]\n",
            " [0.03595297 0.06937468]\n",
            " [0.96113638 0.34517829]\n",
            " [0.40619139 0.47006934]\n",
            " [0.30328393 0.8870367 ]\n",
            " [0.94604097 0.74453435]\n",
            " [0.75195173 0.58770133]]\n"
          ]
        }
      ],
      "source": [
        "x=np.random.rand(10,2)\n",
        "print(x)"
      ]
    },
    {
      "cell_type": "markdown",
      "metadata": {
        "id": "optYqcO5LchT"
      },
      "source": [
        "#### 45. Create random vector of size 10 and replace the maximum value by 0 (★★☆) \n",
        "(**hint**: argmax)"
      ]
    },
    {
      "cell_type": "code",
      "execution_count": 6,
      "metadata": {
        "id": "NeYQxUF0LchT",
        "colab": {
          "base_uri": "https://localhost:8080/"
        },
        "outputId": "5dcc801c-cacd-40bd-c61d-28c1c2cc5a42"
      },
      "outputs": [
        {
          "output_type": "stream",
          "name": "stdout",
          "text": [
            "[[0.75816446 0.75666257]\n",
            " [0.31720999 0.34796509]\n",
            " [0.41231421 0.56682199]\n",
            " [0.72562815 0.6575469 ]\n",
            " [0.16781492 0.63066001]\n",
            " [0.48898034 0.2429901 ]\n",
            " [0.53065101 0.43141277]\n",
            " [0.88779337 0.5991229 ]\n",
            " [0.65396462 0.34950091]\n",
            " [0.60643773 0.64569339]]\n",
            "\n",
            "Max element :  14\n",
            "[[0.         0.        ]\n",
            " [0.31720999 0.34796509]\n",
            " [0.41231421 0.56682199]\n",
            " [0.72562815 0.6575469 ]\n",
            " [0.16781492 0.63066001]\n",
            " [0.48898034 0.2429901 ]\n",
            " [0.53065101 0.43141277]\n",
            " [0.         0.        ]\n",
            " [0.65396462 0.34950091]\n",
            " [0.60643773 0.64569339]]\n"
          ]
        }
      ],
      "source": [
        "x=np.random.rand(10,2)\n",
        "print(x)\n",
        "print(\"\\nMax element : \", np.argmax(x))\n",
        "x[np.argmax(x, axis=0)]=0\n",
        "print(x)"
      ]
    },
    {
      "cell_type": "markdown",
      "metadata": {
        "id": "iP3nPQXJLchT"
      },
      "source": [
        "#### 46. Create a structured array with `x` and `y` coordinates covering the \\[0,1\\]x\\[0,1\\] area (★★☆) \n",
        "(**hint**: np.meshgrid)"
      ]
    },
    {
      "cell_type": "code",
      "execution_count": 7,
      "metadata": {
        "id": "w_WxvYHCLchU",
        "colab": {
          "base_uri": "https://localhost:8080/"
        },
        "outputId": "22946b02-5823-4f8a-9c0b-91bde1cf7ad0"
      },
      "outputs": [
        {
          "output_type": "execute_result",
          "data": {
            "text/plain": [
              "array([[0. , 0.5, 1. ],\n",
              "       [0. , 0.5, 1. ]])"
            ]
          },
          "metadata": {},
          "execution_count": 7
        }
      ],
      "source": [
        "nx, ny = (3, 2)\n",
        "x = np.linspace(0, 1, nx)\n",
        "y = np.linspace(0, 1, ny)\n",
        "xv, yv = np.meshgrid(x, y)\n",
        "xv"
      ]
    },
    {
      "cell_type": "markdown",
      "metadata": {
        "id": "THt3Ig4JLchU"
      },
      "source": [
        "####  47. Given two arrays, X and Y, construct the Cauchy matrix C (Cij =1/(xi - yj)) \n",
        "(**hint**: np.subtract.outer)"
      ]
    },
    {
      "cell_type": "code",
      "execution_count": 8,
      "metadata": {
        "id": "LLxemgdqLchU",
        "colab": {
          "base_uri": "https://localhost:8080/"
        },
        "outputId": "a59ea64b-1ee9-4348-ee36-55183e52dec8"
      },
      "outputs": [
        {
          "output_type": "execute_result",
          "data": {
            "text/plain": [
              "array([[-3, -4, -5],\n",
              "       [-2, -3, -4],\n",
              "       [-1, -2, -3]])"
            ]
          },
          "metadata": {},
          "execution_count": 8
        }
      ],
      "source": [
        "np.subtract.outer([1, 2, 3], [4, 5, 6])"
      ]
    },
    {
      "cell_type": "markdown",
      "metadata": {
        "id": "kjsu2mmgLchU"
      },
      "source": [
        "#### 48. Print the minimum and maximum representable value for each numpy scalar type (★★☆) \n",
        "(**hint**: np.iinfo, np.finfo, eps)"
      ]
    },
    {
      "cell_type": "code",
      "execution_count": 9,
      "metadata": {
        "id": "2Pve_jZxLchU",
        "colab": {
          "base_uri": "https://localhost:8080/"
        },
        "outputId": "b0e95d4a-850b-4c33-969c-f55b382d2e0c"
      },
      "outputs": [
        {
          "output_type": "stream",
          "name": "stdout",
          "text": [
            "-32768\n",
            "32767\n"
          ]
        }
      ],
      "source": [
        "ii16 = np.iinfo(np.int16)\n",
        "print(ii16.min)\n",
        "print(ii16.max)"
      ]
    },
    {
      "cell_type": "markdown",
      "metadata": {
        "id": "njfW7mUeLchU"
      },
      "source": [
        "#### 49. How to print all the values of an array? (★★☆) \n",
        "(**hint**: np.set\\_printoptions)"
      ]
    },
    {
      "cell_type": "code",
      "execution_count": 10,
      "metadata": {
        "id": "F7xvBNflLchV",
        "colab": {
          "base_uri": "https://localhost:8080/"
        },
        "outputId": "f88d14fc-5e5a-4374-9b21-ddf488a049c7"
      },
      "outputs": [
        {
          "output_type": "execute_result",
          "data": {
            "text/plain": [
              "array([1.1235])"
            ]
          },
          "metadata": {},
          "execution_count": 10
        }
      ],
      "source": [
        "np.set_printoptions(precision=4)\n",
        "np.array([1.123456789])"
      ]
    },
    {
      "cell_type": "markdown",
      "metadata": {
        "id": "jeU9is_7LchV"
      },
      "source": [
        "#### 50. How to find the closest value (to a given scalar) in a vector? (★★☆) \n",
        "(**hint**: argmin)"
      ]
    },
    {
      "cell_type": "code",
      "execution_count": 12,
      "metadata": {
        "id": "1gLw8H-mLchV",
        "colab": {
          "base_uri": "https://localhost:8080/"
        },
        "outputId": "1f51519d-e258-4f2c-87e3-21a19e87c948"
      },
      "outputs": [
        {
          "output_type": "stream",
          "name": "stdout",
          "text": [
            "[[[0.3329 0.9604 0.0075 0.6949 0.6816]\n",
            "  [0.9747 0.7701 0.8401 0.2556 0.353 ]]\n",
            "\n",
            " [[0.4381 0.3    0.7491 0.6444 0.8115]\n",
            "  [0.8591 0.235  0.6522 0.7214 0.0194]]\n",
            "\n",
            " [[0.3869 0.9259 0.4676 0.3595 0.0766]\n",
            "  [0.4526 0.4446 0.9773 0.1132 0.1577]]\n",
            "\n",
            " [[0.2974 0.9084 0.0664 0.7793 0.5103]\n",
            "  [0.954  0.7683 0.431  0.5716 0.8151]]\n",
            "\n",
            " [[0.5578 0.0376 0.1648 0.3408 0.4721]\n",
            "  [0.6319 0.5771 0.1659 0.9698 0.8362]]\n",
            "\n",
            " [[0.0765 0.9583 0.735  0.8582 0.994 ]\n",
            "  [0.3278 0.1511 0.5849 0.5763 0.4793]]\n",
            "\n",
            " [[0.9064 0.7494 0.3886 0.0883 0.2117]\n",
            "  [0.9955 0.671  0.2479 0.1557 0.493 ]]\n",
            "\n",
            " [[0.2319 0.1251 0.8342 0.5206 0.9757]\n",
            "  [0.998  0.0068 0.8814 0.0907 0.9446]]\n",
            "\n",
            " [[0.2538 0.9779 0.1223 0.5962 0.6565]\n",
            "  [0.842  0.1938 0.6251 0.0592 0.9174]]\n",
            "\n",
            " [[0.8238 0.6886 0.6329 0.8606 0.4005]\n",
            "  [0.3184 0.458  0.3547 0.4212 0.6296]]]\n",
            "\n",
            "Min closet element :  76\n"
          ]
        }
      ],
      "source": [
        "x=np.random.rand(10,2,5)\n",
        "print(x)\n",
        "print(\"\\nMin closet element : \", np.argmin(x))"
      ]
    },
    {
      "cell_type": "markdown",
      "metadata": {
        "id": "BI2E9pkRLchV"
      },
      "source": [
        "#### 51. Create a structured array representing a position (x,y) and a color (r,g,b) (★★☆) \n",
        "(**hint**: dtype)"
      ]
    },
    {
      "cell_type": "code",
      "execution_count": null,
      "metadata": {
        "id": "XkwStwxELchW"
      },
      "outputs": [],
      "source": [
        ""
      ]
    },
    {
      "cell_type": "markdown",
      "metadata": {
        "id": "BbescfQuLchW"
      },
      "source": [
        "#### 52. Consider a random vector with shape (100,2) representing coordinates, find point by point distances (★★☆) \n",
        "(**hint**: np.atleast\\_2d, T, np.sqrt)"
      ]
    },
    {
      "cell_type": "code",
      "execution_count": 13,
      "metadata": {
        "id": "MZI0qmHbLchW",
        "colab": {
          "base_uri": "https://localhost:8080/"
        },
        "outputId": "0cc97297-1159-4bf3-eed8-67529462ad96"
      },
      "outputs": [
        {
          "output_type": "execute_result",
          "data": {
            "text/plain": [
              "array([[0.5368, 0.2408],\n",
              "       [0.5742, 0.5462],\n",
              "       [0.9412, 0.4593],\n",
              "       [0.1283, 0.9069],\n",
              "       [0.2699, 0.5785],\n",
              "       [0.5471, 0.3484],\n",
              "       [0.2925, 0.1613],\n",
              "       [0.8048, 0.198 ],\n",
              "       [0.2931, 0.6312],\n",
              "       [0.264 , 0.0759],\n",
              "       [0.3583, 0.3282],\n",
              "       [0.6361, 0.9603],\n",
              "       [0.4856, 0.6599],\n",
              "       [0.6311, 0.4948],\n",
              "       [0.2619, 0.4283],\n",
              "       [0.5127, 0.5505],\n",
              "       [0.9103, 0.9772],\n",
              "       [0.1957, 0.0921],\n",
              "       [0.9601, 0.1475],\n",
              "       [0.0674, 0.4124],\n",
              "       [0.717 , 0.9248],\n",
              "       [0.0101, 0.9433],\n",
              "       [0.5247, 0.6285],\n",
              "       [0.7045, 0.6726],\n",
              "       [0.2546, 0.0694],\n",
              "       [0.5943, 0.2993],\n",
              "       [0.6619, 0.9355],\n",
              "       [0.0077, 0.568 ],\n",
              "       [0.8814, 0.8895],\n",
              "       [0.8138, 0.1707],\n",
              "       [0.9801, 0.4113],\n",
              "       [0.0129, 0.2721],\n",
              "       [0.7639, 0.0434],\n",
              "       [0.2911, 0.2444],\n",
              "       [0.6743, 0.7182],\n",
              "       [0.3252, 0.9075],\n",
              "       [0.7087, 0.803 ],\n",
              "       [0.8604, 0.3875],\n",
              "       [0.6304, 0.0075],\n",
              "       [0.6612, 0.8063],\n",
              "       [0.7123, 0.9572],\n",
              "       [0.1525, 0.8203],\n",
              "       [0.2872, 0.9046],\n",
              "       [0.3176, 0.6345],\n",
              "       [0.327 , 0.0826],\n",
              "       [0.7278, 0.9903],\n",
              "       [0.2585, 0.0108],\n",
              "       [0.4861, 0.8762],\n",
              "       [0.627 , 0.422 ],\n",
              "       [0.0093, 0.3431],\n",
              "       [0.9011, 0.1121],\n",
              "       [0.8437, 0.2429],\n",
              "       [0.6907, 0.2068],\n",
              "       [0.3005, 0.8066],\n",
              "       [0.9155, 0.0121],\n",
              "       [0.7437, 0.8236],\n",
              "       [0.1788, 0.2227],\n",
              "       [0.8898, 0.1923],\n",
              "       [0.5247, 0.2378],\n",
              "       [0.95  , 0.619 ],\n",
              "       [0.8645, 0.3915],\n",
              "       [0.4601, 0.44  ],\n",
              "       [0.0626, 0.8962],\n",
              "       [0.2398, 0.8044],\n",
              "       [0.8028, 0.999 ],\n",
              "       [0.3389, 0.1965],\n",
              "       [0.8408, 0.3275],\n",
              "       [0.0247, 0.1565],\n",
              "       [0.1566, 0.0272],\n",
              "       [0.4287, 0.4461],\n",
              "       [0.4558, 0.9166],\n",
              "       [0.5537, 0.6045],\n",
              "       [0.2411, 0.0598],\n",
              "       [0.5642, 0.4521],\n",
              "       [0.0373, 0.5709],\n",
              "       [0.4467, 0.9359],\n",
              "       [0.2295, 0.1394],\n",
              "       [0.6288, 0.7264],\n",
              "       [0.5145, 0.0183],\n",
              "       [0.7013, 0.5773],\n",
              "       [0.3772, 0.4096],\n",
              "       [0.4358, 0.978 ],\n",
              "       [0.6754, 0.1374],\n",
              "       [0.0633, 0.8557],\n",
              "       [0.6941, 0.9068],\n",
              "       [0.706 , 0.8291],\n",
              "       [0.4443, 0.8091],\n",
              "       [0.3986, 0.4475],\n",
              "       [0.6769, 0.8751],\n",
              "       [0.8939, 0.5435],\n",
              "       [0.3401, 0.562 ],\n",
              "       [0.1713, 0.7229],\n",
              "       [0.4374, 0.5253],\n",
              "       [0.8918, 0.0582],\n",
              "       [0.8815, 0.1877],\n",
              "       [0.4215, 0.5271],\n",
              "       [0.7198, 0.3276],\n",
              "       [0.4785, 0.9247],\n",
              "       [0.4039, 0.5877],\n",
              "       [0.5354, 0.385 ]])"
            ]
          },
          "metadata": {},
          "execution_count": 13
        }
      ],
      "source": [
        "x =np.random.rand(100,2)\n",
        "np.atleast_2d(x)"
      ]
    },
    {
      "cell_type": "markdown",
      "metadata": {
        "id": "P1cv2kbJLchW"
      },
      "source": [
        "#### 53. How to convert a float (32 bits) array into an integer (32 bits) in place? \n",
        "(**hint**: astype(copy=False))"
      ]
    },
    {
      "cell_type": "code",
      "execution_count": null,
      "metadata": {
        "id": "8nAC1JI0LchW"
      },
      "outputs": [],
      "source": [
        ""
      ]
    },
    {
      "cell_type": "markdown",
      "metadata": {
        "id": "Sg8I7kizLchW"
      },
      "source": [
        "#### 54. How to read the following file? (★★☆) \n",
        "(**hint**: np.genfromtxt)"
      ]
    },
    {
      "cell_type": "markdown",
      "metadata": {
        "id": "0TMczkAGLchX"
      },
      "source": [
        "```\n",
        "1, 2, 3, 4, 5\n",
        "6,  ,  , 7, 8\n",
        " ,  , 9,10,11\n",
        "```"
      ]
    },
    {
      "cell_type": "code",
      "execution_count": null,
      "metadata": {
        "id": "4OAkPBvcLchX"
      },
      "outputs": [],
      "source": [
        ""
      ]
    },
    {
      "cell_type": "markdown",
      "metadata": {
        "id": "8lw0TgIjLchX"
      },
      "source": [
        "#### 55. What is the equivalent of enumerate for numpy arrays? (★★☆) \n",
        "(**hint**: np.ndenumerate, np.ndindex)"
      ]
    },
    {
      "cell_type": "code",
      "execution_count": 14,
      "metadata": {
        "id": "NVDv17NrLchX",
        "colab": {
          "base_uri": "https://localhost:8080/"
        },
        "outputId": "a0f770c7-12eb-4408-bbf6-a7eef5cd2e68"
      },
      "outputs": [
        {
          "output_type": "stream",
          "name": "stdout",
          "text": [
            "(0, 0) 1\n",
            "(0, 1) 2\n",
            "(1, 0) 3\n",
            "(1, 1) 4\n"
          ]
        }
      ],
      "source": [
        "a = np.array([[1, 2], [3, 4]])\n",
        "for index, x in np.ndenumerate(a):\n",
        "    print(index, x)"
      ]
    },
    {
      "cell_type": "markdown",
      "metadata": {
        "id": "pQgayZWlLchX"
      },
      "source": [
        "#### 56. Generate a generic 2D Gaussian-like array (★★☆) \n",
        "(**hint**: np.meshgrid, np.exp)"
      ]
    },
    {
      "cell_type": "code",
      "execution_count": 15,
      "metadata": {
        "id": "8Hn_p9IcLchX",
        "colab": {
          "base_uri": "https://localhost:8080/"
        },
        "outputId": "d4a548f1-24f3-4cba-8b5c-3406a42a5ceb"
      },
      "outputs": [
        {
          "output_type": "stream",
          "name": "stdout",
          "text": [
            "[[0.  0.5 1. ]\n",
            " [0.  0.5 1. ]]\n",
            "[[0. 0. 0.]\n",
            " [1. 1. 1.]]\n"
          ]
        }
      ],
      "source": [
        "nx, ny = (3, 2)\n",
        "x = np.linspace(0, 1, nx)\n",
        "y = np.linspace(0, 1, ny)\n",
        "xv, yv = np.meshgrid(x, y)\n",
        "print(xv)\n",
        "print(yv)"
      ]
    },
    {
      "cell_type": "markdown",
      "metadata": {
        "id": "DboSYiMDLchY"
      },
      "source": [
        "#### 57. How to randomly place p elements in a 2D array? (★★☆) \n",
        "(**hint**: np.put, np.random.choice)"
      ]
    },
    {
      "cell_type": "code",
      "execution_count": 16,
      "metadata": {
        "id": "0iOaMLnILchY",
        "colab": {
          "base_uri": "https://localhost:8080/"
        },
        "outputId": "108e8b36-2696-4eb3-8d7d-9e8be00add50"
      },
      "outputs": [
        {
          "output_type": "stream",
          "name": "stdout",
          "text": [
            "[-44   1 -55   3   4]\n"
          ]
        }
      ],
      "source": [
        "a = np.arange(5)\n",
        "np.put(a, [0, 2], [-44, -55])\n",
        "print(a)"
      ]
    },
    {
      "cell_type": "markdown",
      "metadata": {
        "id": "YjiCnAZ9LchY"
      },
      "source": [
        "#### 58. Subtract the mean of each row of a matrix (★★☆) \n",
        "(**hint**: mean(axis=,keepdims=))"
      ]
    },
    {
      "cell_type": "code",
      "execution_count": 17,
      "metadata": {
        "id": "egGqfySnLchY",
        "colab": {
          "base_uri": "https://localhost:8080/"
        },
        "outputId": "02a203c2-d4fe-447f-89b5-19ef70662355"
      },
      "outputs": [
        {
          "output_type": "stream",
          "name": "stdout",
          "text": [
            "[[0.0629 0.4132]\n",
            " [0.6408 0.568 ]\n",
            " [0.0352 0.5468]\n",
            " [0.0347 0.4804]\n",
            " [0.6054 0.2854]\n",
            " [0.8661 0.9201]\n",
            " [0.9966 0.1239]\n",
            " [0.0731 0.8865]\n",
            " [0.7999 0.1274]\n",
            " [0.648  0.9125]]\n"
          ]
        },
        {
          "output_type": "execute_result",
          "data": {
            "text/plain": [
              "array([0.238 , 0.6044, 0.291 , 0.2576, 0.4454, 0.8931, 0.5603, 0.4798,\n",
              "       0.4636, 0.7803])"
            ]
          },
          "metadata": {},
          "execution_count": 17
        }
      ],
      "source": [
        "x=np.random.rand(10,2)\n",
        "print(x)\n",
        "np.mean(x, axis=1)"
      ]
    },
    {
      "cell_type": "markdown",
      "metadata": {
        "id": "0LOOqn3XLchY"
      },
      "source": [
        "#### 59. How to sort an array by the nth column? (★★☆) \n",
        "(**hint**: argsort)"
      ]
    },
    {
      "cell_type": "code",
      "execution_count": 18,
      "metadata": {
        "id": "jvQlmRMYLchZ",
        "colab": {
          "base_uri": "https://localhost:8080/"
        },
        "outputId": "dbd084ba-99f7-423e-bfcc-c18c009751d2"
      },
      "outputs": [
        {
          "output_type": "execute_result",
          "data": {
            "text/plain": [
              "array([1, 2, 0])"
            ]
          },
          "metadata": {},
          "execution_count": 18
        }
      ],
      "source": [
        "x = np.array([3, 1, 2])\n",
        "np.argsort(x)"
      ]
    },
    {
      "cell_type": "markdown",
      "metadata": {
        "id": "vJBfgHHFLchZ"
      },
      "source": [
        "#### 60. How to tell if a given 2D array has null columns? (★★☆) \n",
        "(**hint**: any, ~)"
      ]
    },
    {
      "cell_type": "code",
      "execution_count": 19,
      "metadata": {
        "id": "tPaOqKRiLchZ",
        "colab": {
          "base_uri": "https://localhost:8080/"
        },
        "outputId": "33f4346e-f36d-4f14-bd75-0ba1098292bc"
      },
      "outputs": [
        {
          "output_type": "stream",
          "name": "stdout",
          "text": [
            "[[0.1447 0.622 ]\n",
            " [0.2219 0.0947]\n",
            " [0.04   0.973 ]\n",
            " [0.6886 0.1003]\n",
            " [0.8493 0.6235]\n",
            " [0.4641 0.2099]\n",
            " [0.669  0.7695]\n",
            " [0.2437 0.8596]\n",
            " [0.2033 0.9082]\n",
            " [0.6354 0.0743]]\n"
          ]
        },
        {
          "output_type": "execute_result",
          "data": {
            "text/plain": [
              "True"
            ]
          },
          "metadata": {},
          "execution_count": 19
        }
      ],
      "source": [
        "x=np.random.rand(10,2)\n",
        "print(x)\n",
        "np.any(np.nan)"
      ]
    },
    {
      "cell_type": "markdown",
      "metadata": {
        "id": "KIeV_q59LchZ"
      },
      "source": [
        "#### 61. Find the nearest value from a given value in an array (★★☆) \n",
        "(**hint**: np.abs, argmin, flat)"
      ]
    },
    {
      "cell_type": "code",
      "execution_count": 20,
      "metadata": {
        "id": "7NbWdct1LchZ",
        "colab": {
          "base_uri": "https://localhost:8080/"
        },
        "outputId": "6fd48499-51d2-4580-f4ff-ec7122af396f"
      },
      "outputs": [
        {
          "output_type": "execute_result",
          "data": {
            "text/plain": [
              "array([[0.2772, 0.9175],\n",
              "       [0.0803, 0.7477],\n",
              "       [0.4062, 0.0712],\n",
              "       [0.6687, 0.2982],\n",
              "       [0.7906, 0.051 ],\n",
              "       [0.1435, 0.7163],\n",
              "       [0.8476, 0.4623],\n",
              "       [0.4   , 0.4495],\n",
              "       [0.9967, 0.9645],\n",
              "       [0.4036, 0.1512]])"
            ]
          },
          "metadata": {},
          "execution_count": 20
        }
      ],
      "source": [
        "x=np.random.rand(10,2)\n",
        "abs(x)"
      ]
    },
    {
      "cell_type": "markdown",
      "metadata": {
        "id": "paDzehKvLchZ"
      },
      "source": [
        "#### 62. Considering two arrays with shape (1,3) and (3,1), how to compute their sum using an iterator? (★★☆) \n",
        "(**hint**: np.nditer)"
      ]
    },
    {
      "cell_type": "code",
      "execution_count": 21,
      "metadata": {
        "id": "lYyHud7fLcha",
        "colab": {
          "base_uri": "https://localhost:8080/"
        },
        "outputId": "b6a8c395-11ad-428f-dc59-d918ef95fac9"
      },
      "outputs": [
        {
          "output_type": "stream",
          "name": "stdout",
          "text": [
            "8\n"
          ]
        }
      ],
      "source": [
        "import numpy as np\n",
        "\n",
        "arr = np.array([[[1, 3], [3, 1]]])\n",
        "sum=0\n",
        "for x in np.nditer(arr):\n",
        "  sum=sum+x\n",
        "print(sum)"
      ]
    },
    {
      "cell_type": "markdown",
      "metadata": {
        "id": "VjqQmtDXLcha"
      },
      "source": [
        "#### 63. Create an array class that has a name attribute (★★☆) \n",
        "(**hint**: class method)"
      ]
    },
    {
      "cell_type": "code",
      "execution_count": null,
      "metadata": {
        "id": "ESKlZ07bLcha"
      },
      "outputs": [],
      "source": [
        ""
      ]
    },
    {
      "cell_type": "markdown",
      "metadata": {
        "id": "92W9oDgJLcha"
      },
      "source": [
        "#### 64. Consider a given vector, how to add 1 to each element indexed by a second vector (be careful with repeated indices)? (★★★) \n",
        "(**hint**: np.bincount | np.add.at)"
      ]
    },
    {
      "cell_type": "code",
      "execution_count": null,
      "metadata": {
        "id": "caTF1vKfLcha"
      },
      "outputs": [],
      "source": [
        ""
      ]
    },
    {
      "cell_type": "markdown",
      "metadata": {
        "id": "FQPoskInLcha"
      },
      "source": [
        "#### 65. How to accumulate elements of a vector (X) to an array (F) based on an index list (I)? (★★★) \n",
        "(**hint**: np.bincount)"
      ]
    },
    {
      "cell_type": "code",
      "execution_count": null,
      "metadata": {
        "id": "wJCYhlt2Lchb"
      },
      "outputs": [],
      "source": [
        ""
      ]
    },
    {
      "cell_type": "markdown",
      "metadata": {
        "id": "EZJhpAOyLchb"
      },
      "source": [
        "#### 66. Considering a (w,h,3) image of (dtype=ubyte), compute the number of unique colors (★★★) \n",
        "(**hint**: np.unique)"
      ]
    },
    {
      "cell_type": "code",
      "execution_count": null,
      "metadata": {
        "id": "zRdgcsScLchb"
      },
      "outputs": [],
      "source": [
        ""
      ]
    },
    {
      "cell_type": "markdown",
      "metadata": {
        "id": "5uel2G6KLchb"
      },
      "source": [
        "#### 67. Considering a four dimensions array, how to get sum over the last two axis at once? (★★★) \n",
        "(**hint**: sum(axis=(-2,-1)))"
      ]
    },
    {
      "cell_type": "code",
      "execution_count": null,
      "metadata": {
        "id": "kT9bK6hDLchb"
      },
      "outputs": [],
      "source": [
        ""
      ]
    },
    {
      "cell_type": "markdown",
      "metadata": {
        "id": "jElrOPZvLchb"
      },
      "source": [
        "#### 68. Considering a one-dimensional vector D, how to compute means of subsets of D using a vector S of same size describing subset  indices? (★★★) \n",
        "(**hint**: np.bincount)"
      ]
    },
    {
      "cell_type": "code",
      "execution_count": null,
      "metadata": {
        "id": "nAtRI9gPLchc"
      },
      "outputs": [],
      "source": [
        ""
      ]
    },
    {
      "cell_type": "markdown",
      "metadata": {
        "id": "54YnltEtLchc"
      },
      "source": [
        "#### 69. How to get the diagonal of a dot product? (★★★) \n",
        "(**hint**: np.diag)"
      ]
    },
    {
      "cell_type": "code",
      "execution_count": null,
      "metadata": {
        "id": "wnJe0W2bLchc"
      },
      "outputs": [],
      "source": [
        ""
      ]
    },
    {
      "cell_type": "markdown",
      "metadata": {
        "id": "jCZgh08MLchc"
      },
      "source": [
        "#### 70. Consider the vector \\[1, 2, 3, 4, 5\\], how to build a new vector with 3 consecutive zeros interleaved between each value? (★★★) \n",
        "(**hint**: array\\[::4\\])"
      ]
    },
    {
      "cell_type": "code",
      "execution_count": null,
      "metadata": {
        "id": "g4qAONNeLchf"
      },
      "outputs": [],
      "source": [
        ""
      ]
    },
    {
      "cell_type": "markdown",
      "metadata": {
        "id": "25lGe5XLLchf"
      },
      "source": [
        "#### 71. Consider an array of dimension (5,5,3), how to mulitply it by an array with dimensions (5,5)? (★★★) \n",
        "(**hint**: array\\[:, :, None\\])"
      ]
    },
    {
      "cell_type": "code",
      "execution_count": null,
      "metadata": {
        "collapsed": true,
        "id": "PXEEz44yLchg"
      },
      "outputs": [],
      "source": [
        ""
      ]
    },
    {
      "cell_type": "markdown",
      "metadata": {
        "id": "KsoZbPc8Lchg"
      },
      "source": [
        "#### 72. How to swap two rows of an array? (★★★) \n",
        "(**hint**: array\\[\\[\\]\\] = array\\[\\[\\]\\])"
      ]
    },
    {
      "cell_type": "code",
      "execution_count": null,
      "metadata": {
        "id": "Hz5OCXqiLchg"
      },
      "outputs": [],
      "source": [
        ""
      ]
    },
    {
      "cell_type": "markdown",
      "metadata": {
        "id": "yhTBCVUqLchg"
      },
      "source": [
        "#### 73. Consider a set of 10 triplets describing 10 triangles (with shared vertices), find the set of unique line segments composing all the  triangles (★★★) \n",
        "(**hint**: repeat, np.roll, np.sort, view, np.unique)"
      ]
    },
    {
      "cell_type": "code",
      "execution_count": null,
      "metadata": {
        "id": "3cO5X-qwLchg"
      },
      "outputs": [],
      "source": [
        ""
      ]
    },
    {
      "cell_type": "markdown",
      "metadata": {
        "id": "evQsG5TMLchh"
      },
      "source": [
        "#### 74. Given an array C that is a bincount, how to produce an array A such that np.bincount(A) == C? (★★★) \n",
        "(**hint**: np.repeat)"
      ]
    },
    {
      "cell_type": "code",
      "execution_count": null,
      "metadata": {
        "id": "U1-i3M2tLchh"
      },
      "outputs": [],
      "source": [
        ""
      ]
    },
    {
      "cell_type": "markdown",
      "metadata": {
        "id": "2oCn5araLchh"
      },
      "source": [
        "#### 75. How to compute averages using a sliding window over an array? (★★★) \n",
        "(**hint**: np.cumsum)"
      ]
    },
    {
      "cell_type": "code",
      "execution_count": null,
      "metadata": {
        "id": "NwncvyYJLchh"
      },
      "outputs": [],
      "source": [
        ""
      ]
    },
    {
      "cell_type": "markdown",
      "metadata": {
        "id": "RR32oxKuLchh"
      },
      "source": [
        "#### 76. Consider a one-dimensional array Z, build a two-dimensional array whose first row is (Z\\[0\\],Z\\[1\\],Z\\[2\\]) and each subsequent row is  shifted by 1 (last row should be (Z\\[-3\\],Z\\[-2\\],Z\\[-1\\]) (★★★) \n",
        "(**hint**: from numpy.lib import stride_tricks)"
      ]
    },
    {
      "cell_type": "code",
      "execution_count": null,
      "metadata": {
        "id": "o8JNYAKRLchi"
      },
      "outputs": [],
      "source": [
        ""
      ]
    },
    {
      "cell_type": "markdown",
      "metadata": {
        "id": "8SLpJGSLLchi"
      },
      "source": [
        "#### 77. How to negate a boolean, or to change the sign of a float inplace? (★★★) \n",
        "(**hint**: np.logical_not, np.negative)"
      ]
    },
    {
      "cell_type": "code",
      "execution_count": null,
      "metadata": {
        "id": "wiZeU4aoLchi"
      },
      "outputs": [],
      "source": [
        ""
      ]
    },
    {
      "cell_type": "markdown",
      "metadata": {
        "id": "GQe2cmULLchi"
      },
      "source": [
        "#### 78. Consider 2 sets of points P0,P1 describing lines (2d) and a point p, how to compute distance from p to each line i  (P0\\[i\\],P1\\[i\\])? (★★★)"
      ]
    },
    {
      "cell_type": "code",
      "execution_count": null,
      "metadata": {
        "id": "6FzMiv4ULchi"
      },
      "outputs": [],
      "source": [
        ""
      ]
    },
    {
      "cell_type": "markdown",
      "metadata": {
        "id": "BB-AqMccLchi"
      },
      "source": [
        "#### 79. Consider 2 sets of points P0,P1 describing lines (2d) and a set of points P, how to compute distance from each point j (P\\[j\\]) to each line i (P0\\[i\\],P1\\[i\\])? (★★★)"
      ]
    },
    {
      "cell_type": "code",
      "execution_count": null,
      "metadata": {
        "id": "_ks8FW6HLchj"
      },
      "outputs": [],
      "source": [
        ""
      ]
    },
    {
      "cell_type": "markdown",
      "metadata": {
        "id": "frpSXSUQLchj"
      },
      "source": [
        "#### 80. Consider an arbitrary array, write a function that extract a subpart with a fixed shape and centered on a given element (pad with a `fill` value when necessary) (★★★) \n",
        "(**hint**: minimum, maximum)"
      ]
    },
    {
      "cell_type": "code",
      "execution_count": null,
      "metadata": {
        "id": "PxyH3fsWLchj"
      },
      "outputs": [],
      "source": [
        ""
      ]
    },
    {
      "cell_type": "markdown",
      "metadata": {
        "id": "qkrOw4UjLchj"
      },
      "source": [
        "#### 81. Consider an array Z = \\[1,2,3,4,5,6,7,8,9,10,11,12,13,14\\], how to generate an array R = \\[\\[1,2,3,4\\], \\[2,3,4,5\\], \\[3,4,5,6\\], ..., \\[11,12,13,14\\]\\]? (★★★) \n",
        "(**hint**: stride\\_tricks.as\\_strided)"
      ]
    },
    {
      "cell_type": "code",
      "execution_count": null,
      "metadata": {
        "id": "Jpo9CFBeLchj"
      },
      "outputs": [],
      "source": [
        ""
      ]
    },
    {
      "cell_type": "markdown",
      "metadata": {
        "id": "DvkwW-QCLchj"
      },
      "source": [
        "#### 82. Compute a matrix rank (★★★) \n",
        "(**hint**: np.linalg.svd) (suggestion: np.linalg.svd)"
      ]
    },
    {
      "cell_type": "code",
      "execution_count": null,
      "metadata": {
        "id": "T_7z1YsALchk"
      },
      "outputs": [],
      "source": [
        ""
      ]
    },
    {
      "cell_type": "markdown",
      "metadata": {
        "id": "jqfvE9qYLchk"
      },
      "source": [
        "#### 83. How to find the most frequent value in an array? \n",
        "(**hint**: np.bincount, argmax)"
      ]
    },
    {
      "cell_type": "code",
      "execution_count": null,
      "metadata": {
        "id": "cmtswLT0Lchk"
      },
      "outputs": [],
      "source": [
        ""
      ]
    },
    {
      "cell_type": "markdown",
      "metadata": {
        "id": "pJswcSbgLchk"
      },
      "source": [
        "#### 84. Extract all the contiguous 3x3 blocks from a random 10x10 matrix (★★★) \n",
        "(**hint**: stride\\_tricks.as\\_strided)"
      ]
    },
    {
      "cell_type": "code",
      "execution_count": null,
      "metadata": {
        "id": "2rgedscKLchk"
      },
      "outputs": [],
      "source": [
        ""
      ]
    },
    {
      "cell_type": "markdown",
      "metadata": {
        "id": "6UTc5jjPLchk"
      },
      "source": [
        "#### 85. Create a 2D array subclass such that Z\\[i,j\\] == Z\\[j,i\\] (★★★) \n",
        "(**hint**: class method)"
      ]
    },
    {
      "cell_type": "code",
      "execution_count": null,
      "metadata": {
        "id": "RsKw41SdLchl"
      },
      "outputs": [],
      "source": [
        ""
      ]
    },
    {
      "cell_type": "markdown",
      "metadata": {
        "id": "72ACExsILchl"
      },
      "source": [
        "#### 86. Consider a set of p matrices wich shape (n,n) and a set of p vectors with shape (n,1). How to compute the sum of of the p matrix products at once? (result has shape (n,1)) (★★★) \n",
        "(**hint**: np.tensordot)"
      ]
    },
    {
      "cell_type": "code",
      "execution_count": null,
      "metadata": {
        "id": "1_w8h171Lchl"
      },
      "outputs": [],
      "source": [
        ""
      ]
    },
    {
      "cell_type": "markdown",
      "metadata": {
        "id": "Hh9r89dyLchl"
      },
      "source": [
        "#### 87. Consider a 16x16 array, how to get the block-sum (block size is 4x4)? (★★★) \n",
        "(**hint**: np.add.reduceat)"
      ]
    },
    {
      "cell_type": "code",
      "execution_count": null,
      "metadata": {
        "id": "tSQBWX5-Lchm"
      },
      "outputs": [],
      "source": [
        ""
      ]
    },
    {
      "cell_type": "markdown",
      "metadata": {
        "id": "B3YQfotvLchm"
      },
      "source": [
        "#### 88. How to implement the Game of Life using numpy arrays? (★★★)"
      ]
    },
    {
      "cell_type": "code",
      "execution_count": null,
      "metadata": {
        "id": "-oQjw90XLchm"
      },
      "outputs": [],
      "source": [
        ""
      ]
    },
    {
      "cell_type": "markdown",
      "metadata": {
        "id": "PHXQNwpHLchm"
      },
      "source": [
        "#### 89. How to get the n largest values of an array (★★★) \n",
        "(**hint**: np.argsort | np.argpartition)"
      ]
    },
    {
      "cell_type": "code",
      "execution_count": null,
      "metadata": {
        "id": "elUxPSWoLchm"
      },
      "outputs": [],
      "source": [
        ""
      ]
    },
    {
      "cell_type": "markdown",
      "metadata": {
        "id": "lCSjYgP8Lchm"
      },
      "source": [
        "#### 90. Given an arbitrary number of vectors, build the cartesian product (every combinations of every item) (★★★) \n",
        "(**hint**: np.indices)"
      ]
    },
    {
      "cell_type": "code",
      "execution_count": null,
      "metadata": {
        "scrolled": true,
        "id": "rVDK0kS-Lchn"
      },
      "outputs": [],
      "source": [
        ""
      ]
    },
    {
      "cell_type": "markdown",
      "metadata": {
        "id": "ym37E1cNLchn"
      },
      "source": [
        "#### 91. How to create a record array from a regular array? (★★★) \n",
        "(**hint**: np.core.records.fromarrays)"
      ]
    },
    {
      "cell_type": "code",
      "execution_count": null,
      "metadata": {
        "id": "JAWpBJ6zLchn"
      },
      "outputs": [],
      "source": [
        ""
      ]
    },
    {
      "cell_type": "markdown",
      "metadata": {
        "id": "ly8d1XQzLchn"
      },
      "source": [
        "#### 92. Consider a large vector Z, compute Z to the power of 3 using 3 different methods (★★★) \n",
        "(**hint**: np.power, \\*, np.einsum)"
      ]
    },
    {
      "cell_type": "code",
      "execution_count": null,
      "metadata": {
        "id": "AR6ljieZLchn"
      },
      "outputs": [],
      "source": [
        ""
      ]
    },
    {
      "cell_type": "markdown",
      "metadata": {
        "id": "aePBDzxVLchn"
      },
      "source": [
        "#### 93. Consider two arrays A and B of shape (8,3) and (2,2). How to find rows of A that contain elements of each row of B regardless of the order of the elements in B? (★★★) \n",
        "(**hint**: np.where)"
      ]
    },
    {
      "cell_type": "code",
      "execution_count": null,
      "metadata": {
        "id": "4s1ICT6gLcho"
      },
      "outputs": [],
      "source": [
        ""
      ]
    },
    {
      "cell_type": "markdown",
      "metadata": {
        "id": "kB15q1u0Lcho"
      },
      "source": [
        "#### 94. Considering a 10x3 matrix, extract rows with unequal values (e.g. \\[2,2,3\\]) (★★★)"
      ]
    },
    {
      "cell_type": "code",
      "execution_count": null,
      "metadata": {
        "id": "--Z-f7deLcho"
      },
      "outputs": [],
      "source": [
        ""
      ]
    },
    {
      "cell_type": "markdown",
      "metadata": {
        "id": "E_YNfnVmLcho"
      },
      "source": [
        "#### 95. Convert a vector of ints into a matrix binary representation (★★★) \n",
        "(**hint**: np.unpackbits)"
      ]
    },
    {
      "cell_type": "code",
      "execution_count": null,
      "metadata": {
        "id": "I6WxKtSLLcho"
      },
      "outputs": [],
      "source": [
        ""
      ]
    },
    {
      "cell_type": "markdown",
      "metadata": {
        "id": "_ardfzndLcho"
      },
      "source": [
        "#### 96. Given a two dimensional array, how to extract unique rows? (★★★) \n",
        "(**hint**: np.ascontiguousarray)"
      ]
    },
    {
      "cell_type": "code",
      "execution_count": null,
      "metadata": {
        "id": "GzVJ1CbmLchp"
      },
      "outputs": [],
      "source": [
        ""
      ]
    },
    {
      "cell_type": "markdown",
      "metadata": {
        "id": "ahc85D6ULchp"
      },
      "source": [
        "#### 97. Considering 2 vectors A & B, write the einsum equivalent of inner, outer, sum, and mul function (★★★) \n",
        "(**hint**: np.einsum)"
      ]
    },
    {
      "cell_type": "code",
      "execution_count": null,
      "metadata": {
        "id": "TXxDMeMMLchp"
      },
      "outputs": [],
      "source": [
        ""
      ]
    },
    {
      "cell_type": "markdown",
      "metadata": {
        "id": "L8S7ujeKLchp"
      },
      "source": [
        "#### 98. Considering a path described by two vectors (X,Y), how to sample it using equidistant samples (★★★)? \n",
        "(**hint**: np.cumsum, np.interp)"
      ]
    },
    {
      "cell_type": "code",
      "execution_count": null,
      "metadata": {
        "collapsed": true,
        "id": "XNnbtBPBLchp"
      },
      "outputs": [],
      "source": [
        ""
      ]
    },
    {
      "cell_type": "markdown",
      "metadata": {
        "id": "tV6ucyw2Lchp"
      },
      "source": [
        "#### 99. Given an integer n and a 2D array X, select from X the rows which can be interpreted as draws from a multinomial distribution with n degrees, i.e., the rows which only contain integers and which sum to n. (★★★) \n",
        "(**hint**: np.logical\\_and.reduce, np.mod)"
      ]
    },
    {
      "cell_type": "code",
      "execution_count": null,
      "metadata": {
        "id": "txeg_gpiLchq"
      },
      "outputs": [],
      "source": [
        ""
      ]
    },
    {
      "cell_type": "markdown",
      "metadata": {
        "id": "jvrL2CrcLchq"
      },
      "source": [
        "#### 100. Compute bootstrapped 95% confidence intervals for the mean of a 1D array X (i.e., resample the elements of an array with replacement N times, compute the mean of each sample, and then compute percentiles over the means). (★★★) \n",
        "(**hint**: np.percentile)"
      ]
    },
    {
      "cell_type": "code",
      "execution_count": null,
      "metadata": {
        "id": "AgkYK4XgLchq"
      },
      "outputs": [],
      "source": [
        "import matplotlib.pyplot as plt"
      ]
    },
    {
      "cell_type": "code",
      "source": [
        "ypoints = np.array([3, 8, 1, 10])\n",
        "plt.plot(ypoints, color = #4CAF50 )\n",
        "plt.show()"
      ],
      "metadata": {
        "colab": {
          "base_uri": "https://localhost:8080/",
          "height": 130
        },
        "id": "LqQfhRXQBHC-",
        "outputId": "c88130a6-4f9f-45cd-b55a-c162423d4867"
      },
      "execution_count": null,
      "outputs": [
        {
          "output_type": "error",
          "ename": "SyntaxError",
          "evalue": "ignored",
          "traceback": [
            "\u001b[0;36m  File \u001b[0;32m\"<ipython-input-6-528588846c9c>\"\u001b[0;36m, line \u001b[0;32m3\u001b[0m\n\u001b[0;31m    plt.show()\u001b[0m\n\u001b[0m              ^\u001b[0m\n\u001b[0;31mSyntaxError\u001b[0m\u001b[0;31m:\u001b[0m unexpected EOF while parsing\n"
          ]
        }
      ]
    },
    {
      "cell_type": "code",
      "source": [
        "import numpy as np\n",
        "\n",
        "student_id = np.array([1023, 5202, 6230, 1671, 1682, 5241, 4532])\n",
        "\n",
        "i = np.argsort(student_id)\n",
        "\n",
        "print(i[5])"
      ],
      "metadata": {
        "colab": {
          "base_uri": "https://localhost:8080/"
        },
        "id": "_XlksFXnBuuQ",
        "outputId": "0cb4fc94-e850-474a-cff5-01bc791d6627"
      },
      "execution_count": null,
      "outputs": [
        {
          "output_type": "stream",
          "name": "stdout",
          "text": [
            "5\n"
          ]
        }
      ]
    },
    {
      "cell_type": "code",
      "source": [
        "import pandas as pd\n",
        "\n",
        "import numpy as np\n",
        "\n",
        "s = pd.Series(np.random.randn(4))\n",
        "\n",
        "print(s)\n",
        "\n",
        "print(s.ndim)"
      ],
      "metadata": {
        "colab": {
          "base_uri": "https://localhost:8080/"
        },
        "id": "LtXUizE9C8ZF",
        "outputId": "1d091649-cbef-44f7-ea41-f71f652ddab1"
      },
      "execution_count": null,
      "outputs": [
        {
          "output_type": "stream",
          "name": "stdout",
          "text": [
            "0    0.389758\n",
            "1   -0.168744\n",
            "2    0.612644\n",
            "3    0.449369\n",
            "dtype: float64\n",
            "1\n"
          ]
        }
      ]
    },
    {
      "cell_type": "code",
      "source": [
        "a = np.array([[1,2,3],[0,1,4]])\n",
        "\n",
        "b = np.zeros((2,3), dtype=np.int16)\n",
        "\n",
        "c = np.ones((2,3), dtype=np.int16)\n",
        "\n",
        "d = a + b + c\n",
        "\n",
        "print(d)\n",
        "\n",
        "print (d[1,2] )"
      ],
      "metadata": {
        "colab": {
          "base_uri": "https://localhost:8080/"
        },
        "id": "mzgs10Q7DUEu",
        "outputId": "7d2990b3-8fba-4fb9-d96a-fdee1ea24f94"
      },
      "execution_count": null,
      "outputs": [
        {
          "output_type": "stream",
          "name": "stdout",
          "text": [
            "[[2 3 4]\n",
            " [1 2 5]]\n",
            "5\n"
          ]
        }
      ]
    },
    {
      "cell_type": "code",
      "source": [
        "import numpy as np\n",
        "\n",
        "a = np.array([1,2,3])\n",
        "\n",
        "print (a)"
      ],
      "metadata": {
        "colab": {
          "base_uri": "https://localhost:8080/"
        },
        "id": "E-hVMoTJD4MI",
        "outputId": "0f6d3610-4014-4fe7-ac17-7d79979e868a"
      },
      "execution_count": null,
      "outputs": [
        {
          "output_type": "stream",
          "name": "stdout",
          "text": [
            "[1 2 3]\n"
          ]
        }
      ]
    },
    {
      "cell_type": "code",
      "source": [
        "import numpy as np\n",
        "\n",
        "from numpy import linalg\n",
        "\n",
        "a = np.array([[1, 0], [1, 2]])\n",
        "\n",
        "print(type(np.linalg.det(a)))"
      ],
      "metadata": {
        "colab": {
          "base_uri": "https://localhost:8080/"
        },
        "id": "ktwZ6q1GEOWY",
        "outputId": "acd8dc9f-5bf8-4387-a7bd-616adde5b9ca"
      },
      "execution_count": null,
      "outputs": [
        {
          "output_type": "stream",
          "name": "stdout",
          "text": [
            "<class 'numpy.float64'>\n"
          ]
        }
      ]
    },
    {
      "cell_type": "code",
      "source": [
        "\n",
        "s = pd.Series (np.random.randn(87))\n",
        "\n",
        "print(s.ndim)"
      ],
      "metadata": {
        "colab": {
          "base_uri": "https://localhost:8080/"
        },
        "id": "YBTw8XfdE-hZ",
        "outputId": "4a316a2a-99c5-4c1b-b26d-f68a84975cae"
      },
      "execution_count": null,
      "outputs": [
        {
          "output_type": "stream",
          "name": "stdout",
          "text": [
            "1\n"
          ]
        }
      ]
    }
  ],
  "metadata": {
    "kernelspec": {
      "display_name": "Python 3",
      "language": "python",
      "name": "python3"
    },
    "language_info": {
      "codemirror_mode": {
        "name": "ipython",
        "version": 3
      },
      "file_extension": ".py",
      "mimetype": "text/x-python",
      "name": "python",
      "nbconvert_exporter": "python",
      "pygments_lexer": "ipython3",
      "version": "3.8.3"
    },
    "colab": {
      "name": "Numpy_tasks.ipynb",
      "provenance": [],
      "collapsed_sections": [
        "ZBXwW3uALcg7",
        "j9INgqLcLcg9",
        "Acba7WoPLcg-",
        "6ZrDypvdLcg_",
        "Q40lS2ZxLchA",
        "ox2v-fsFLchA",
        "VS3wFnyVLchB",
        "biLI-WrJLchC",
        "mDqHb8zwLchC",
        "8N6UoPstLchD",
        "mPbopA8YLchE",
        "JyqYKgzvLchF",
        "e2jU0GX1LchF",
        "FQPng80kLchG",
        "N0M7SLatLchH",
        "fqavN_wjLchI",
        "AUijeb6SLchJ",
        "DNZ1CvQWLchJ",
        "MHQjreZYLchK",
        "6ed_6ZdXLchK",
        "U7v_PNMmLchL",
        "CvjK2K3_LchM",
        "HRNYX8fyLchM",
        "TpozA9_JLchN",
        "modgIimaLchN",
        "rYONw2W7LchO",
        "LsuQxUyPLchO",
        "w-o7Yso0LchO",
        "y8lHMw4BLchP",
        "sBS4CS4NLchP",
        "rG1UB8QdLchQ",
        "8z1ZDmmHLchQ",
        "P1cv2kbJLchW",
        "Sg8I7kizLchW",
        "92W9oDgJLcha",
        "FQPoskInLcha",
        "EZJhpAOyLchb",
        "5uel2G6KLchb",
        "jElrOPZvLchb",
        "54YnltEtLchc",
        "jCZgh08MLchc",
        "25lGe5XLLchf",
        "KsoZbPc8Lchg",
        "yhTBCVUqLchg",
        "evQsG5TMLchh",
        "2oCn5araLchh",
        "RR32oxKuLchh",
        "8SLpJGSLLchi",
        "GQe2cmULLchi",
        "BB-AqMccLchi",
        "frpSXSUQLchj",
        "qkrOw4UjLchj",
        "DvkwW-QCLchj",
        "jqfvE9qYLchk",
        "pJswcSbgLchk",
        "6UTc5jjPLchk",
        "72ACExsILchl",
        "Hh9r89dyLchl",
        "B3YQfotvLchm",
        "PHXQNwpHLchm",
        "lCSjYgP8Lchm",
        "ym37E1cNLchn",
        "ly8d1XQzLchn",
        "aePBDzxVLchn",
        "kB15q1u0Lcho",
        "E_YNfnVmLcho",
        "_ardfzndLcho",
        "ahc85D6ULchp",
        "L8S7ujeKLchp",
        "tV6ucyw2Lchp",
        "jvrL2CrcLchq"
      ],
      "include_colab_link": true
    }
  },
  "nbformat": 4,
  "nbformat_minor": 0
}